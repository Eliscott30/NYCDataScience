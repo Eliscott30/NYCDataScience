{
 "cells": [
  {
   "cell_type": "markdown",
   "metadata": {},
   "source": [
    "# Natural Language Processing (NLP)"
   ]
  },
  {
   "cell_type": "markdown",
   "metadata": {},
   "source": [
    "## Introduction\n",
    "\n",
    "*Adapted from [NLP Crash Course](http://files.meetup.com/7616132/DC-NLP-2013-09%20Charlie%20Greenbacker.pdf) by Charlie Greenbacker and [Introduction to NLP](http://spark-public.s3.amazonaws.com/nlp/slides/intro.pdf) by Dan Jurafsky*"
   ]
  },
  {
   "cell_type": "markdown",
   "metadata": {},
   "source": [
    "### What is NLP?\n",
    "\n",
    "- Using computers to process (analyze, understand, generate) natural human languages\n",
    "- Most knowledge created by humans is unstructured text, and we need a way to make sense of it\n",
    "- Build probabilistic model using data about a language"
   ]
  },
  {
   "cell_type": "markdown",
   "metadata": {},
   "source": [
    "### What are some of the higher level task areas?\n",
    "\n",
    "- **Information retrieval**: Find relevant results and similar results\n",
    "    - [Google](https://www.google.com/)\n",
    "- **Information extraction**: Structured information from unstructured documents\n",
    "    - [Events from Gmail](https://support.google.com/calendar/answer/6084018?hl=en)\n",
    "- **Machine translation**: One language to another\n",
    "    - [Google Translate](https://translate.google.com/)\n",
    "- **Text simplification**: Preserve the meaning of text, but simplify the grammar and vocabulary\n",
    "    - [Rewordify](https://rewordify.com/)\n",
    "    - [Simple English Wikipedia](https://simple.wikipedia.org/wiki/Main_Page)\n",
    "- **Predictive text input**: Faster or easier typing\n",
    "    - [My application](https://justmarkham.shinyapps.io/textprediction/)\n",
    "    - [A much better application](https://farsite.shinyapps.io/swiftkey-cap/)\n",
    "- **Sentiment analysis**: Attitude of speaker\n",
    "    - [Hater News](http://haternews.herokuapp.com/)\n",
    "- **Automatic summarization**: Extractive or abstractive summarization\n",
    "    - [autotldr](https://www.reddit.com/r/technology/comments/35brc8/21_million_people_still_use_aol_dialup/cr2zzj0)\n",
    "- **Natural Language Generation**: Generate text from data\n",
    "    - [How a computer describes a sports match](http://www.bbc.com/news/technology-34204052)\n",
    "    - [Publishers withdraw more than 120 gibberish papers](http://www.nature.com/news/publishers-withdraw-more-than-120-gibberish-papers-1.14763)\n",
    "- **Speech recognition and generation**: Speech-to-text, text-to-speech\n",
    "    - [Google's Web Speech API demo](https://www.google.com/intl/en/chrome/demos/speech.html)\n",
    "    - [Vocalware Text-to-Speech demo](https://www.vocalware.com/index/demo)\n",
    "- **Question answering**: Determine the intent of the question, match query with knowledge base, evaluate hypotheses\n",
    "    - [How did supercomputer Watson beat Jeopardy champion Ken Jennings?](http://blog.ted.com/how-did-supercomputer-watson-beat-jeopardy-champion-ken-jennings-experts-discuss/)\n",
    "    - [IBM's Watson Trivia Challenge](http://www.nytimes.com/interactive/2010/06/16/magazine/watson-trivia-game.html)\n",
    "    - [The AI Behind Watson](http://www.aaai.org/Magazine/Watson/watson.php)"
   ]
  },
  {
   "cell_type": "markdown",
   "metadata": {},
   "source": [
    "### What are some of the lower level components?\n",
    "\n",
    "- **Tokenization**: breaking text into tokens (words, sentences, n-grams)\n",
    "- **Stopword removal**: a/an/the\n",
    "- **Stemming and lemmatization**: root word\n",
    "- **TF-IDF**: word importance\n",
    "- **Part-of-speech tagging**: noun/verb/adjective\n",
    "- **Named entity recognition**: person/organization/location\n",
    "- **Spelling correction**: \"New Yrok City\"\n",
    "- **Word sense disambiguation**: \"buy a mouse\"\n",
    "- **Segmentation**: \"New York City subway\"\n",
    "- **Language detection**: \"translate this page\"\n",
    "- **Machine learning**"
   ]
  },
  {
   "cell_type": "markdown",
   "metadata": {},
   "source": [
    "### Why is NLP hard?\n",
    "\n",
    "- **Ambiguity**:\n",
    "    - Hospitals are Sued by 7 Foot Doctors\n",
    "    - Juvenile Court to Try Shooting Defendant\n",
    "    - Local High School Dropouts Cut in Half\n",
    "- **Non-standard English**: text messages\n",
    "- **Idioms**: \"throw in the towel\"\n",
    "- **Newly coined words**: \"retweet\"\n",
    "- **Tricky entity names**: \"Where is A Bug's Life playing?\"\n",
    "- **World knowledge**: \"Mary and Sue are sisters\", \"Mary and Sue are mothers\"\n",
    "\n",
    "NLP requires an understanding of the **language** and the **world**."
   ]
  },
  {
   "cell_type": "markdown",
   "metadata": {},
   "source": [
    "## Part 1: Reading in the Yelp Reviews"
   ]
  },
  {
   "cell_type": "markdown",
   "metadata": {},
   "source": [
    "- \"corpus\" = collection of documents\n",
    "- \"corpora\" = plural form of corpus"
   ]
  },
  {
   "cell_type": "code",
   "execution_count": 1,
   "metadata": {
    "collapsed": false
   },
   "outputs": [],
   "source": [
    "import pandas as pd\n",
    "import numpy as np\n",
    "import scipy as sp\n",
    "from sklearn.model_selection import train_test_split\n",
    "from sklearn.feature_extraction.text import CountVectorizer, TfidfVectorizer\n",
    "from sklearn.naive_bayes import MultinomialNB\n",
    "from sklearn.linear_model import LogisticRegression\n",
    "from sklearn import metrics\n",
    "from textblob import TextBlob, Word\n",
    "from nltk.stem.snowball import SnowballStemmer\n",
    "%matplotlib inline"
   ]
  },
  {
   "cell_type": "code",
   "execution_count": 2,
   "metadata": {
    "collapsed": false
   },
   "outputs": [
    {
     "data": {
      "text/html": [
       "<div>\n",
       "<table border=\"1\" class=\"dataframe\">\n",
       "  <thead>\n",
       "    <tr style=\"text-align: right;\">\n",
       "      <th></th>\n",
       "      <th>review_id</th>\n",
       "      <th>stars</th>\n",
       "      <th>text</th>\n",
       "    </tr>\n",
       "  </thead>\n",
       "  <tbody>\n",
       "    <tr>\n",
       "      <th>0</th>\n",
       "      <td>fWKvX83p0-ka4JS3dc6E5A</td>\n",
       "      <td>5</td>\n",
       "      <td>My wife took me here on my birthday for breakf...</td>\n",
       "    </tr>\n",
       "    <tr>\n",
       "      <th>1</th>\n",
       "      <td>IjZ33sJrzXqU-0X6U8NwyA</td>\n",
       "      <td>5</td>\n",
       "      <td>I have no idea why some people give bad review...</td>\n",
       "    </tr>\n",
       "    <tr>\n",
       "      <th>3</th>\n",
       "      <td>G-WvGaISbqqaMHlNnByodA</td>\n",
       "      <td>5</td>\n",
       "      <td>Rosie, Dakota, and I LOVE Chaparral Dog Park!!...</td>\n",
       "    </tr>\n",
       "    <tr>\n",
       "      <th>4</th>\n",
       "      <td>1uJFq2r5QfJG_6ExMRCaGw</td>\n",
       "      <td>5</td>\n",
       "      <td>General Manager Scott Petello is a good egg!!!...</td>\n",
       "    </tr>\n",
       "    <tr>\n",
       "      <th>6</th>\n",
       "      <td>riFQ3vxNpP4rWLk_CSri2A</td>\n",
       "      <td>5</td>\n",
       "      <td>Drop what you're doing and drive here. After I...</td>\n",
       "    </tr>\n",
       "  </tbody>\n",
       "</table>\n",
       "</div>"
      ],
      "text/plain": [
       "                review_id  stars  \\\n",
       "0  fWKvX83p0-ka4JS3dc6E5A      5   \n",
       "1  IjZ33sJrzXqU-0X6U8NwyA      5   \n",
       "3  G-WvGaISbqqaMHlNnByodA      5   \n",
       "4  1uJFq2r5QfJG_6ExMRCaGw      5   \n",
       "6  riFQ3vxNpP4rWLk_CSri2A      5   \n",
       "\n",
       "                                                text  \n",
       "0  My wife took me here on my birthday for breakf...  \n",
       "1  I have no idea why some people give bad review...  \n",
       "3  Rosie, Dakota, and I LOVE Chaparral Dog Park!!...  \n",
       "4  General Manager Scott Petello is a good egg!!!...  \n",
       "6  Drop what you're doing and drive here. After I...  "
      ]
     },
     "execution_count": 2,
     "metadata": {},
     "output_type": "execute_result"
    }
   ],
   "source": [
    "# read yelp.csv into a DataFrame\n",
    "url = 'https://raw.githubusercontent.com/justmarkham/DAT8/master/data/yelp.csv'\n",
    "yelpfull = pd.read_csv(url)\n",
    "\n",
    "# create a new DataFrame that only contains the 5-star and 1-star reviews\n",
    "yelp = yelpfull[(yelpfull.stars==5) | (yelpfull.stars==1)][['review_id','stars','text']]\n",
    "\n",
    "# define X and y\n",
    "X = yelp.text\n",
    "y = yelp.stars\n",
    "yelp.head()"
   ]
  },
  {
   "cell_type": "code",
   "execution_count": 19,
   "metadata": {
    "collapsed": false
   },
   "outputs": [],
   "source": [
    "# split the new DataFrame into training and testing sets\n",
    "X_train, X_test, y_train, y_test = train_test_split(X, y, test_size=0.2, random_state=0)"
   ]
  },
  {
   "cell_type": "markdown",
   "metadata": {},
   "source": [
    "## Part 2: Tokenization"
   ]
  },
  {
   "cell_type": "markdown",
   "metadata": {},
   "source": [
    "- **What:** Separate text into units such as sentences or words\n",
    "- **Why:** Gives structure to previously unstructured text\n",
    "- **Notes:** Relatively easy with English language text, not easy with some languages"
   ]
  },
  {
   "cell_type": "code",
   "execution_count": 20,
   "metadata": {
    "collapsed": false
   },
   "outputs": [],
   "source": [
    "# use CountVectorizer to create document-term matrices from X_train and X_test\n",
    "vect = CountVectorizer()\n",
    "X_train_dtm = vect.fit_transform(X_train)\n",
    "X_test_dtm = vect.transform(X_test)"
   ]
  },
  {
   "cell_type": "code",
   "execution_count": 21,
   "metadata": {
    "collapsed": false
   },
   "outputs": [
    {
     "data": {
      "text/plain": [
       "(3268, 17305)"
      ]
     },
     "execution_count": 21,
     "metadata": {},
     "output_type": "execute_result"
    }
   ],
   "source": [
    "# rows are documents, columns are terms (aka \"tokens\" or \"features\")\n",
    "X_train_dtm.shape"
   ]
  },
  {
   "cell_type": "code",
   "execution_count": 22,
   "metadata": {
    "collapsed": false
   },
   "outputs": [
    {
     "name": "stdout",
     "output_type": "stream",
     "text": [
      "[u'zach', u'zam', u'zankou', u'zappos', u'zatsiki', u'zen', u'zero', u'zest', u'zesty', u'zexperience', u'zha', u'zia', u'zichini', u'zihuatenejo', u'zilch', u'zillion', u'zin', u'zinburger', u'zinburgergeist', u'zinc', u'zinfandel', u'zing', u'zip', u'zipcar', u'ziploc', u'zipper', u'zippers', u'zipps', u'ziti', u'zoe', u'zombies', u'zone', u'zoners', u'zones', u'zoning', u'zoo', u'zoom', u'zoyo', u'zucca', u'zucchini', u'zuchinni', u'zumba', u'zupa', u'zupas', u'zuzu', u'zuzus', u'zwiebel', u'\\xe9clairs', u'\\xe9cole', u'\\xe9m']\n"
     ]
    }
   ],
   "source": [
    "# last 50 features\n",
    "print vect.get_feature_names()[-50:]"
   ]
  },
  {
   "cell_type": "code",
   "execution_count": 23,
   "metadata": {
    "collapsed": false
   },
   "outputs": [
    {
     "data": {
      "text/plain": [
       "CountVectorizer(analyzer=u'word', binary=False, decode_error=u'strict',\n",
       "        dtype=<type 'numpy.int64'>, encoding=u'utf-8', input=u'content',\n",
       "        lowercase=True, max_df=1.0, max_features=None, min_df=1,\n",
       "        ngram_range=(1, 1), preprocessor=None, stop_words=None,\n",
       "        strip_accents=None, token_pattern=u'(?u)\\\\b\\\\w\\\\w+\\\\b',\n",
       "        tokenizer=None, vocabulary=None)"
      ]
     },
     "execution_count": 23,
     "metadata": {},
     "output_type": "execute_result"
    }
   ],
   "source": [
    "# show vectorizer options\n",
    "vect"
   ]
  },
  {
   "cell_type": "markdown",
   "metadata": {},
   "source": [
    "[CountVectorizer documentation](http://scikit-learn.org/stable/modules/generated/sklearn.feature_extraction.text.CountVectorizer.html)"
   ]
  },
  {
   "cell_type": "markdown",
   "metadata": {},
   "source": [
    "- **lowercase:** boolean, True by default\n",
    "- Convert all characters to lowercase before tokenizing."
   ]
  },
  {
   "cell_type": "code",
   "execution_count": 24,
   "metadata": {
    "collapsed": false
   },
   "outputs": [
    {
     "data": {
      "text/plain": [
       "(3268, 21409)"
      ]
     },
     "execution_count": 24,
     "metadata": {},
     "output_type": "execute_result"
    }
   ],
   "source": [
    "# don't convert to lowercase\n",
    "vect = CountVectorizer(lowercase=False)\n",
    "X_train_dtm = vect.fit_transform(X_train)\n",
    "X_train_dtm.shape"
   ]
  },
  {
   "cell_type": "markdown",
   "metadata": {},
   "source": [
    "- **ngram_range:** tuple (min_n, max_n)\n",
    "- The lower and upper boundary of the range of n-values for different n-grams to be extracted. All values of n such that min_n <= n <= max_n will be used."
   ]
  },
  {
   "cell_type": "code",
   "execution_count": 25,
   "metadata": {
    "collapsed": false
   },
   "outputs": [
    {
     "data": {
      "text/plain": [
       "(3268, 178172)"
      ]
     },
     "execution_count": 25,
     "metadata": {},
     "output_type": "execute_result"
    }
   ],
   "source": [
    "# include 1-grams and 2-grams\n",
    "vect = CountVectorizer(ngram_range=(1, 2))\n",
    "X_train_dtm = vect.fit_transform(X_train)\n",
    "X_train_dtm.shape"
   ]
  },
  {
   "cell_type": "code",
   "execution_count": 26,
   "metadata": {
    "collapsed": false
   },
   "outputs": [
    {
     "name": "stdout",
     "output_type": "stream",
     "text": [
      "[u'zoo if', u'zoo is', u'zoo not', u'zoo the', u'zoo tour', u'zoo ve', u'zoom', u'zoom in', u'zoyo', u'zoyo for', u'zucca', u'zucca appetizer', u'zucchini', u'zucchini and', u'zucchini bread', u'zucchini broccoli', u'zucchini carrots', u'zucchini fires', u'zucchini pieces', u'zucchini strips', u'zucchini veal', u'zucchini very', u'zucchini we', u'zucchini with', u'zuchinni', u'zuchinni again', u'zuchinni the', u'zumba', u'zumba class', u'zumba or', u'zumba yogalates', u'zupa', u'zupa flavors', u'zupas', u'zupas cater', u'zuzu', u'zuzu in', u'zuzu is', u'zuzu the', u'zuzu was', u'zuzus', u'zuzus room', u'zwiebel', u'zwiebel kr\\xe4uter', u'\\xe9clairs', u'\\xe9clairs napoleons', u'\\xe9cole', u'\\xe9cole len\\xf4tre', u'\\xe9m', u'\\xe9m all']\n"
     ]
    }
   ],
   "source": [
    "# last 50 features\n",
    "print vect.get_feature_names()[-50:]"
   ]
  },
  {
   "cell_type": "markdown",
   "metadata": {},
   "source": [
    "**Predicting the star rating:**"
   ]
  },
  {
   "cell_type": "code",
   "execution_count": 27,
   "metadata": {
    "collapsed": false
   },
   "outputs": [
    {
     "name": "stdout",
     "output_type": "stream",
     "text": [
      "0.925427872861\n"
     ]
    }
   ],
   "source": [
    "# use default options for CountVectorizer\n",
    "vect = CountVectorizer()\n",
    "\n",
    "# create document-term matrices\n",
    "X_train_dtm = vect.fit_transform(X_train)\n",
    "X_test_dtm = vect.transform(X_test)\n",
    "\n",
    "# use Naive Bayes to predict the star rating\n",
    "nb = MultinomialNB()\n",
    "nb.fit(X_train_dtm, y_train)\n",
    "y_pred_class = nb.predict(X_test_dtm)\n",
    "\n",
    "# calculate accuracy\n",
    "print metrics.accuracy_score(y_test, y_pred_class)"
   ]
  },
  {
   "cell_type": "markdown",
   "metadata": {},
   "source": [
    "#### Let's see if we can shorten the time it takes to fit and predict a model after NLP"
   ]
  },
  {
   "cell_type": "code",
   "execution_count": 28,
   "metadata": {
    "collapsed": false
   },
   "outputs": [
    {
     "name": "stdout",
     "output_type": "stream",
     "text": [
      "(3268L,) (3268L,)\n",
      "Features:  17305\n",
      "Accuracy:  0.925427872861\n"
     ]
    }
   ],
   "source": [
    "# define a function that accepts a vectorizer and calculates its accuracy\n",
    "import pdb\n",
    "def tokenize_test(vect,data,predictors,target):\n",
    "    X_train,X_test,y_train,y_test = train_test_split(data[predictors],data[target],test_size=0.2,random_state=0)\n",
    "    print X_train.shape, y_train.shape\n",
    "    X_train_dtm = vect.fit_transform(X_train)\n",
    "    print 'Features: ', X_train_dtm.shape[1]\n",
    "    X_test_dtm = vect.transform(X_test)\n",
    "    nb = MultinomialNB()\n",
    "    nb.fit(X_train_dtm, y_train)\n",
    "    y_pred_class = nb.predict(X_test_dtm)\n",
    "    print 'Accuracy: ', metrics.accuracy_score(y_test, y_pred_class)\n",
    "predictors = 'text'\n",
    "target = 'stars'\n",
    "# use default options for CountVectorizer\n",
    "vect = CountVectorizer()\n",
    "tokenize_test(vect,yelp,predictors,target)"
   ]
  },
  {
   "cell_type": "code",
   "execution_count": 29,
   "metadata": {
    "collapsed": false
   },
   "outputs": [
    {
     "data": {
      "text/plain": [
       "0.8227383863080685"
      ]
     },
     "execution_count": 29,
     "metadata": {},
     "output_type": "execute_result"
    }
   ],
   "source": [
    "# calculate null accuracy\n",
    "y_test_binary = np.where(y_test==5, 1, 0)\n",
    "max(y_test_binary.mean(), 1 - y_test_binary.mean())"
   ]
  },
  {
   "cell_type": "code",
   "execution_count": 30,
   "metadata": {
    "collapsed": false
   },
   "outputs": [
    {
     "name": "stdout",
     "output_type": "stream",
     "text": [
      "(3268L,) (3268L,)\n",
      "Features:  178172\n",
      "Accuracy:  0.852078239609\n"
     ]
    }
   ],
   "source": [
    "# include 1-grams and 2-grams\n",
    "vect = CountVectorizer(ngram_range=(1, 2))\n",
    "tokenize_test(vect,yelp,predictors,target)"
   ]
  },
  {
   "cell_type": "markdown",
   "metadata": {},
   "source": [
    "So the model's accuracy actually gets worse when we add n-grams. Can you guess why?"
   ]
  },
  {
   "cell_type": "markdown",
   "metadata": {},
   "source": [
    "## Part 3: Stopword Removal"
   ]
  },
  {
   "cell_type": "markdown",
   "metadata": {},
   "source": [
    "- **What:** Remove common words that will likely appear in any text\n",
    "- **Why:** They don't tell you much about your text"
   ]
  },
  {
   "cell_type": "code",
   "execution_count": 31,
   "metadata": {
    "collapsed": false
   },
   "outputs": [
    {
     "data": {
      "text/plain": [
       "CountVectorizer(analyzer=u'word', binary=False, decode_error=u'strict',\n",
       "        dtype=<type 'numpy.int64'>, encoding=u'utf-8', input=u'content',\n",
       "        lowercase=True, max_df=1.0, max_features=None, min_df=1,\n",
       "        ngram_range=(1, 2), preprocessor=None, stop_words=None,\n",
       "        strip_accents=None, token_pattern=u'(?u)\\\\b\\\\w\\\\w+\\\\b',\n",
       "        tokenizer=None, vocabulary=None)"
      ]
     },
     "execution_count": 31,
     "metadata": {},
     "output_type": "execute_result"
    }
   ],
   "source": [
    "# show vectorizer options\n",
    "vect"
   ]
  },
  {
   "cell_type": "markdown",
   "metadata": {},
   "source": [
    "- **stop_words:** string {'english'}, list, or None (default)\n",
    "- If 'english', a built-in stop word list for English is used.\n",
    "- If a list, that list is assumed to contain stop words, all of which will be removed from the resulting tokens.\n",
    "- If None, no stop words will be used. max_df can be set to a value in the range [0.7, 1.0) to automatically detect and filter stop words based on intra corpus document frequency of terms."
   ]
  },
  {
   "cell_type": "code",
   "execution_count": 33,
   "metadata": {
    "collapsed": false
   },
   "outputs": [
    {
     "name": "stdout",
     "output_type": "stream",
     "text": [
      "(3268L,) (3268L,)\n",
      "Features:  17009\n",
      "Accuracy:  0.921760391198\n"
     ]
    }
   ],
   "source": [
    "# remove English stop words\n",
    "vect = CountVectorizer(stop_words='english')\n",
    "tokenize_test(vect,yelp,predictors,target)"
   ]
  },
  {
   "cell_type": "markdown",
   "metadata": {},
   "source": [
    "So removing stop words doesn't seem to make the Model accuracy any better. Can you guess why?"
   ]
  },
  {
   "cell_type": "code",
   "execution_count": null,
   "metadata": {
    "collapsed": false
   },
   "outputs": [],
   "source": [
    "# set of stop words\n",
    "print vect.get_stop_words()"
   ]
  },
  {
   "cell_type": "markdown",
   "metadata": {},
   "source": [
    "## Part 4: Other CountVectorizer Options"
   ]
  },
  {
   "cell_type": "markdown",
   "metadata": {},
   "source": [
    "- **max_features:** int or None, default=None\n",
    "- If not None, build a vocabulary that only consider the top max_features ordered by term frequency across the corpus."
   ]
  },
  {
   "cell_type": "code",
   "execution_count": 36,
   "metadata": {
    "collapsed": false
   },
   "outputs": [
    {
     "name": "stdout",
     "output_type": "stream",
     "text": [
      "(3268L,) (3268L,)\n",
      "Features:  5000\n",
      "Accuracy:  0.929095354523\n"
     ]
    }
   ],
   "source": [
    "# remove English stop words and only keep 100 features\n",
    "vect = CountVectorizer(stop_words='english', max_features=5000)\n",
    "tokenize_test(vect,yelp,predictors,target)"
   ]
  },
  {
   "cell_type": "markdown",
   "metadata": {},
   "source": [
    "So cutting the number of features seems to slightly help improve Model accuracy. Can you play around with the \"max_features\" to see what is the best number for this model?"
   ]
  },
  {
   "cell_type": "code",
   "execution_count": 37,
   "metadata": {
    "collapsed": false
   },
   "outputs": [
    {
     "name": "stdout",
     "output_type": "stream",
     "text": [
      "[u'00', u'000', u'00pm', u'10', u'100', u'1000', u'101', u'11', u'11am', u'12', u'13', u'14', u'140', u'15', u'150', u'16', u'17', u'18', u'19', u'1pm', u'1st', u'20', u'200', u'2006', u'2007', u'2009', u'2010', u'2011', u'2012', u'20min', u'21', u'22', u'23', u'24', u'25', u'250', u'26', u'28', u'29', u'2am', u'2nd', u'2pm', u'30', u'300', u'30pm', u'32', u'35', u'35th', u'39', u'3rd', u'40', u'45', u'49', u'4pm', u'50', u'500', u'5pm', u'5th', u'60', u'65', u'6pm', u'70', u'75', u'7am', u'7pm', u'7th', u'80', u'80s', u'88', u'8th', u'90', u'95', u'98', u'99', u'aa', u'aaron', u'ability', u'able', u'absolute', u'absolutely', u'abundance', u'ac', u'accept', u'accepted', u'access', u'accessories', u'accommodate', u'accommodating', u'accommodations', u'accomodating', u'accompanied', u'accompany', u'according', u'account', u'accurate', u'ace', u'acknowledge', u'acknowledged', u'acrylics', u'act', u'acted', u'acting', u'action', u'active', u'activities', u'activity', u'actual', u'actually', u'adam', u'add', u'added', u'addicted', u'addicting', u'addiction', u'addictive', u'adding', u'addition', u'additional', u'address', u'adds', u'adjacent', u'admission', u'admit', u'admittedly', u'adobe', u'adorable', u'adore', u'adovada', u'adult', u'adults', u'advance', u'advantage', u'adventure', u'adventurous', u'advertise', u'advertised', u'advertising', u'advice', u'advise', u'aerobics', u'aesthetics', u'affair', u'afford', u'affordable', u'afraid', u'afternoon', u'afterthought', u'afterward', u'age', u'aged', u'agency', u'agent', u'agents', u'ages', u'aggressive', u'ago', u'agree', u'agreed', u'ah', u'ahead', u'ahi', u'ahwatukee', u'aid', u'ain', u'aioli', u'air', u'airline', u'airlines', u'airport', u'airways', u'airy', u'aisle', u'aisles', u'aj', u'aji', u'aka', u'al', u'ala', u'alas', u'alcohol', u'alcoholic', u'ale', u'alfredo', u'alive', u'allergic', u'allergies', u'allergy', u'alligator', u'allow', u'allowed', u'allowing', u'allows', u'almond', u'alot', u'alright', u'alternative', u'ama', u'amanda', u'amazed', u'amazing', u'amazingly', u'amber', u'ambiance', u'ambience', u'amc', u'amenities', u'america', u'american', u'americanized', u'americans', u'amounts', u'ample', u'amuse', u'amy', u'andrew', u'angel', u'angela', u'angeles', u'angry', u'animal', u'animals', u'anniversary', u'annoying', u'annual', u'answer', u'answered', u'answers', u'anthem', u'anti', u'antipasto', u'antique', u'ants', u'anxious', u'anymore', u'anytime', u'anyways', u'apart', u'apartment', u'apologize', u'apologized', u'apology', u'app', u'apparently', u'appeal', u'appealing', u'appear', u'appearance', u'appeared', u'appears', u'appetite', u'appetizer', u'appetizers', u'apple', u'apples', u'appointment', u'appointments', u'appreciate', u'appreciated', u'appreciation', u'apprehensive', u'approach', u'approached', u'appropriate', u'approximately', u'apps', u'appt', u'april', u'arcadia', u'architecture', u'area', u'areas', u'aren', u'arena', u'argue', u'argued', u'ariel', u'arizona', u'arm', u'arms', u'aroma', u'arranged', u'arrangements', u'array', u'arribas', u'arrival', u'arrive', u'arrived', u'arrives', u'arriving', u'arrogant', u'art', u'artichoke', u'artichokes', u'article', u'articles', u'artificial', u'artist', u'artists', u'artwork', u'arugula', u'asada', u'asado', u'asian', u'aside', u'ask', u'asked', u'asking', u'asks', u'asparagus', u'aspect', u'ass', u'assistance', u'assistant', u'associate', u'associates', u'assortment', u'assume', u'assumed', u'assuming', u'assure', u'assured', u'asu', u'ate', u'atlantic', u'atleast', u'atm', u'atmosphere', u'atop', u'attached', u'attempt', u'attempting', u'attend', u'attendant', u'attendants', u'attended', u'attending', u'attention', u'attentive', u'attitude', u'attitudes', u'au', u'audition', u'august', u'aunt', u'austin', u'authentic', u'auto', u'automatic', u'automatically', u'automotive', u'avacado', u'available', u'ave', u'avenue', u'average', u'avocado', u'avoid', u'award', u'aware', u'away', u'awesome', u'awesomeness', u'awful', u'awhile', u'awkward', u'az', u'az88', u'baba', u'baby', u'babysitter', u'backed', u'background', u'backwards', u'backyard', u'bacon', u'bad', u'badly', u'bag', u'bagel', u'bagels', u'bags', u'baguette', u'bahama', u'bait', u'baiz', u'bake', u'baked', u'baker', u'bakery', u'baking', u'baklava', u'balance', u'balanced', u'balcony', u'bald', u'ball', u'ballet', u'balls', u'balsamic', u'bamboo', u'banana', u'band', u'bandaid', u'bandera', u'bandido', u'bands', u'bang', u'bank', u'bar', u'barbecue', u'barbeque', u'barber', u'bare', u'barely', u'bargain', u'barista', u'barrio', u'bars', u'bartender', u'bartenders', u'base', u'baseball', u'based', u'basic', u'basically', u'basics', u'basil', u'basis', u'basket', u'basketball', u'baskets', u'basmati', u'bass', u'bathroom', u'bathrooms', u'batter', u'bay', u'bbq', u'bc', u'beach', u'bean', u'beans', u'bear', u'beard', u'bears', u'beat', u'beats', u'beautiful', u'beautifully', u'beauty', u'bed', u'beds', u'beef', u'beer', u'beers', u'beet', u'began', u'begin', u'beginning', u'behavior', u'behold', u'beignets', u'believe', u'bell', u'belly', u'belt', u'ben', u'benches', u'bend', u'benedict', u'beppo', u'berries', u'berry', u'best', u'bet', u'better', u'beverage', u'beverages', u'beware', u'bf', u'bgf', u'biagio', u'bianco', u'biancoverde', u'big', u'bigger', u'biggest', u'bike', u'bikes', u'bills', u'biltmore', u'bird', u'birds', u'birthday', u'biscuits', u'bison', u'bisque', u'bistro', u'bit', u'bitch', u'bite', u'bites', u'bits', u'bitter', u'biz_photos', u'black', u'blackened', u'blah', u'blame', u'blanco', u'bland', u'blast', u'blend', u'blended', u'bleu', u'blew', u'bliss', u'block', u'blocks', u'blonde', u'blood', u'bloody', u'blossom', u'blow', u'blowdry', u'blown', u'blt', u'blue', u'blueberry', u'blues', u'bo', u'board', u'boat', u'bob', u'boba', u'bobby', u'boca', u'bocca', u'body', u'boiled', u'bold', u'bomb', u'bone', u'boneless', u'bones', u'bonus', u'boo', u'book', u'booked', u'books', u'bookstore', u'boom', u'boot', u'booth', u'booths', u'booze', u'border', u'bored', u'boring', u'born', u'bosa', u'boss', u'boston', u'botanical', u'bother', u'bothered', u'bottle', u'bottled', u'bottles', u'bouche', u'bought', u'boulders', u'bouncers', u'bound', u'bouquet', u'bourbon', u'boutique', u'bowl', u'bowling', u'bowls', u'box', u'boxed', u'boxes', u'boy', u'boyfriend', u'boys', u'bra', u'braised', u'branch', u'brand', u'brands', u'bravo', u'bread', u'breaded', u'breads', u'break', u'breakfast', u'breakfasts', u'breaking', u'breaks', u'breast', u'breasts', u'breath', u'breathing', u'breeze', u'brew', u'brewed', u'breweries', u'brewery', u'brewing', u'brews', u'brick', u'bridal', u'bride', u'brie', u'brief', u'bright', u'brilliant', u'bring', u'bringing', u'brings', u'brioche', u'brisket', u'brittle', u'broccoli', u'broke', u'broken', u'bros', u'broth', u'brother', u'brought', u'brown', u'brownie', u'brownies', u'browns', u'bruce', u'brulee', u'brunch', u'bruschetta', u'brush', u'brushed', u'brussel', u'bs', u'btw', u'buca', u'buck', u'bucket', u'bucks', u'buddy', u'budget', u'buds', u'buffalo', u'buffet', u'bug', u'build', u'building', u'built', u'bulbs', u'bulk', u'bullshit', u'bumping', u'bun', u'bunch', u'buns', u'burger', u'burgers', u'burn', u'burned', u'burning', u'burnt', u'burrata', u'burrito', u'burritos', u'bus', u'business', u'businesses', u'bustling', u'busy', u'butcher', u'butt', u'butter', u'butterfish', u'butterflies', u'butterfly', u'butternut', u'buttery', u'buy', u'buying', u'buzz', u'bye', u'byob', u'ca', u'cab', u'cabbage', u'cactus', u'caesar', u'cafe', u'cafeteria', u'caffeine', u'cajun', u'cake', u'cakes', u'calamari', u'cali', u'california', u'called', u'calling', u'calls', u'calm', u'calorie', u'calories', u'calzone', u'came', u'camelback', u'camera', u'campus', u'canal', u'cancel', u'cancelled', u'candied', u'candle', u'candles', u'candy', u'cane', u'canned', u'cans', u'canteen', u'cantina', u'canyon', u'capacity', u'cappuccino', u'caprese', u'car', u'caramel', u'caramelized', u'carb', u'card', u'cardboard', u'cards', u'care', u'cared', u'careful', u'cares', u'caribbean', u'caring', u'carl', u'carmel', u'carne', u'carnitas', u'carpaccio', u'carpet', u'carried', u'carrot', u'carrots', u'carry', u'carrying', u'cars', u'cart', u'cartel', u'carts', u'casa', u'case', u'cases', u'casey', u'cash', u'cashier', u'cashiers', u'casita', u'casserole', u'casual', u'cat', u'catch', u'catching', u'cater', u'catering', u'cathedral', u'cats', u'caught', u'cauliflower', u'cause', u'caused', u'causes', u'caution', u'cave', u'caveat', u'caviar', u'cc', u'cd', u'ceiling', u'celebrate', u'celebrated', u'celebrating', u'celebration', u'celery', u'cell', u'cenpho', u'cent', u'center', u'central', u'cents', u'century', u'certain', u'certainly', u'certificate', u'ceviche', u'cha', u'chai', u'chain', u'chains', u'chair', u'chairs', u'challenge', u'challenging', u'champagne', u'chance', u'chances', u'chandeliers', u'chandler', u'chang', u'change', u'changed', u'changes', u'changing', u'changs', u'char', u'character', u'charcoal', u'charge', u'charged', u'charges', u'charging', u'charlie', u'charm', u'charming', u'charred', u'chart', u'chat', u'chatted', u'chatting', u'cheap', u'cheaper', u'cheapest', u'check', u'checked', u'checking', u'checks', u'cheddar', u'cheerful', u'cheers', u'cheese', u'cheeseburger', u'cheesecake', u'cheeses', u'cheesesteak', u'cheesesteaks', u'cheesy', u'chef', u'chefs', u'chemicals', u'cherry', u'chewy', u'chic', u'chicago', u'chick', u'chicken', u'child', u'childcare', u'childhood', u'children', u'chile', u'chiles', u'chili', u'chilies', u'chill', u'chilled', u'chilly', u'chimichanga', u'china', u'chinese', u'chino', u'chip', u'chipotle', u'chips', u'chiptole', u'chocolate', u'choice', u'choices', u'cholla', u'chompie', u'chompies', u'choose', u'choosing', u'chop', u'chopped', u'chops', u'chorizo', u'chose', u'chow', u'chowder', u'chris', u'christ', u'christine', u'christmas', u'christopher', u'chu', u'chunks', u'chunky', u'church', u'ciabatta', u'ciao', u'cibo', u'cider', u'cigar', u'cilantro', u'cinema', u'cinnamon', u'circle', u'circles', u'cities', u'citizen', u'city', u'ck', u'claim', u'claimed', u'class', u'classes', u'classic', u'classy', u'clean', u'cleaned', u'cleaners', u'cleaning', u'cleanliness', u'clear', u'clearance', u'cleared', u'clearly', u'clerk', u'client', u'clientele', u'clients', u'climb', u'clinic', u'clips', u'clock', u'close', u'closed', u'closely', u'closer', u'closes', u'closest', u'closet', u'closing', u'cloth', u'clothes', u'clothing', u'clouds', u'club', u'clubs', u'clue', u'coach', u'coal', u'coast', u'coat', u'cobb', u'coca', u'cocktail', u'cocktails', u'cocoa', u'coconut', u'cod', u'code', u'coe', u'coffee', u'coffees', u'coin', u'coke', u'cokes', u'cola', u'cold', u'cole', u'coleslaw', u'collection', u'collective', u'college', u'color', u'colored', u'colorful', u'colors', u'com', u'coma', u'combination', u'combinations', u'combined', u'combo', u'come', u'comedy', u'comes', u'comfort', u'comfortable', u'comforting', u'comfy', u'coming', u'comment', u'commented', u'comments', u'commercial', u'commission', u'committed', u'common', u'communicate', u'communication', u'community', u'comp', u'companies', u'companion', u'company', u'compare', u'compared', u'compares', u'comparing', u'comparison', u'comped', u'compensate', u'compensation', u'compete', u'competent', u'competition', u'competitive', u'complain', u'complained', u'complaining', u'complains', u'complaint', u'complaints', u'complement', u'complete', u'completed', u'completely', u'complex', u'compliment', u'complimentary', u'compliments', u'compote', u'computer', u'concept', u'concern', u'concerned', u'concerns', u'concert', u'concierge', u'conclusion', u'concoction', u'condescending', u'condiment', u'condiments', u'condition', u'conditioning', u'cone', u'cones', u'conference', u'confident', u'confirm', u'confirmed', u'confused', u'confusing', u'connection', u'cons', u'conscious', u'consider', u'considered', u'considering', u'consistency', u'consistent', u'consistently', u'consists', u'constant', u'constantly', u'construction', u'contact', u'contained', u'container', u'containers', u'contemporary', u'content', u'continue', u'continued', u'continues', u'contribute', u'control', u'convenience', u'convenient', u'conveniently', u'conversation', u'conversations', u'converted', u'convinced', u'cook', u'cooked', u'cookie', u'cookies', u'cooking', u'cooks', u'cool', u'coolant', u'cooler', u'coolest', u'copper', u'copy', u'core', u'cork', u'corn', u'cornbread', u'corned', u'corner', u'cornish', u'corporate', u'correct', u'correctly', u'cost', u'costco', u'costs', u'cotta', u'cottage', u'cotton', u'couch', u'couches', u'couldn', u'count', u'counter', u'countless', u'country', u'couple', u'couples', u'coupon', u'coupons', u'course', u'courses', u'court', u'courteous', u'courtesy', u'courts', u'courtyard', u'couscous', u'cousin', u'cover', u'covered', u'cow', u'cowboy', u'coworker', u'coworkers', u'cows', u'cozy', u'crab', u'crack', u'cracked', u'cracker', u'crackers', u'craft', u'crafted', u'cramped', u'cranberry', u'crap', u'crappy', u'crave', u'craving', u'cravings', u'crazy', u'cream', u'creamed', u'creams', u'creamy', u'create', u'created', u'creating', u'creation', u'creations', u'creative', u'creativity', u'credit', u'creek', u'creepy', u'creme', u'crepe', u'crepes', u'crew', u'crisp', u'crispy', u'cristo', u'critical', u'croissant', u'croissants', u'cross', u'crowd', u'crowded', u'crowds', u'crown', u'crudo', u'crunch', u'crunchy', u'crust', u'crusted', u'crusty', u'crying', u'crystal', u'cuban', u'cubes', u'cucumber', u'cucumbers', u'cuisine', u'culinary', u'culture', u'culver', u'cup', u'cupcake', u'cupcakes', u'cups', u'curds', u'cure', u'curious', u'current', u'currently', u'curries', u'curry', u'custard', u'custom', u'customer', u'customers', u'cut', u'cute', u'cuts', u'cutting', u'cuz', u'da', u'dad', u'daily', u'dairy', u'damage', u'damn', u'dan', u'dance', u'dancing', u'dang', u'dangerous', u'daniel', u'danielle', u'dark', u'darn', u'date', u'dated', u'dates', u'daughter', u'dave', u'day', u'days', u'dead', u'deal', u'dealing', u'deals', u'dear', u'death', u'debit', u'decadent', u'decades', u'decent', u'decide', u'decided', u'deciding', u'decision', u'decisions', u'decor', u'decorated', u'decoration', u'dedicated', u'deep', u'def', u'defalco', u'default', u'defiantly', u'definately', u'definetly', u'definitely', u'degree', u'degrees', u'del', u'delectable', u'deli', u'delicate', u'delicious', u'deliciously', u'deliciousness', u'delight', u'delighted', u'delightful', u'delish', u'deliver', u'delivered', u'delivering', u'delivers', u'delivery', u'demand', u'dental', u'dentist', u'dentists', u'department', u'depending', u'depends', u'dept', u'described', u'description', u'desert', u'deserts', u'deserve', u'deserved', u'deserves', u'design', u'designed', u'designer', u'designers', u'designs', u'desire', u'desired', u'desk', u'despite', u'dessert', u'desserts', u'destination', u'details', u'determined', u'devoured', u'di', u'did', u'didn', u'didnt', u'die', u'died', u'diego', u'diet', u'difference', u'different', u'differently', u'difficult', u'dig', u'digress', u'dim', u'dime', u'dimly', u'dine', u'dined', u'diner', u'diners', u'dining', u'dinner', u'dinners', u'dip', u'dipped', u'dipping', u'direction', u'directions', u'directly', u'director', u'dirt', u'dirty', u'disappeared', u'disappoint', u'disappointed', u'disappointing', u'disappointment', u'disappoints', u'disaster', u'discount', u'discounted', u'discounts', u'discover', u'discovered', u'discussed', u'disgusting', u'dish', u'dishes', u'dislike', u'display', u'distance', u'distinct', u'district', u'dive', u'diverse', u'dives', u'divine', u'dj', u'dmv', u'dobson', u'doctor', u'doctors', u'does', u'doesn', u'doesnt', u'dog', u'dogs', u'doing', u'dollar', u'dollars', u'dominick', u'don', u'dont', u'donut', u'donuts', u'door', u'doors', u'dos', u'dosa', u'double', u'doubt', u'douche', u'dough', u'downright', u'downside', u'downtown', u'dozen', u'dozens', u'dr', u'draft', u'drafts', u'drag', u'dragon', u'drank', u'draw', u'drawn', u'dream', u'dreams', u'dress', u'dressed', u'dresses', u'dressing', u'drew', u'dried', u'drink', u'drinker', u'drinking', u'drinks', u'dripping', u'drive', u'driven', u'driver', u'drivers', u'driving', u'drizzle', u'drizzled', u'drop', u'dropped', u'dropping', u'drove', u'drug', u'drunk', u'drunken', u'dry', u'duck', u'dude', u'dumb', u'dumpling', u'dumplings', u'dumpster', u'dunno', u'dust', u'duty', u'dvd', u'eager', u'ear', u'earlier', u'early', u'earned', u'earrings', u'ears', u'earth', u'ease', u'easier', u'easily', u'east', u'eastern', u'easy', u'eat', u'eaten', u'eater', u'eateries', u'eaters', u'eatery', u'eating', u'eats', u'ebi', u'echo', u'economy', u'edamame', u'eddie', u'edge', u'edges', u'edible', u'edit', u'edu', u'education', u'eegees', u'eel', u'efficient', u'effort', u'egg', u'eggplant', u'eggrolls', u'eggs', u'el', u'elbows', u'elderly', u'electronic', u'elegant', u'elements', u'elephant', u'em', u'email', u'emailed', u'emails', u'embarrassed', u'emergency', u'empanadas', u'employee', u'employees', u'enchilada', u'enchiladas', u'encore', u'encountered', u'encourage', u'encouraged', u'encouragement', u'end', u'endeavor', u'ended', u'ending', u'endless', u'ends', u'energy', u'engagement', u'engaging', u'engineering', u'english', u'enjoy', u'enjoyable', u'enjoyed', u'enjoying', u'enjoyment', u'enormous', u'enotria', u'ensure', u'enter', u'entered', u'entering', u'entertained', u'entertaining', u'entertainment', u'enthusiastic', u'entire', u'entirely', u'entrance', u'entree', u'entrees', u'entry', u'environment', u'envy', u'epic', u'equally', u'equipment', u'er', u'es', u'escape', u'escaped', u'especially', u'espresso', u'essence', u'establishment', u'ethiopian', u'ethnic', u'europe', u'european', u'eve', u'evening', u'evenings', u'event', u'events', u'eventually', u'everybody', u'everyday', u'everyones', u'everytime', u'evil', u'ex', u'exact', u'exactly', u'exam', u'example', u'exceeded', u'excellent', u'exception', u'exceptional', u'exceptionally', u'excessively', u'exchange', u'excited', u'excitement', u'exciting', u'excuse', u'excuses', u'executed', u'execution', u'exercise', u'exhaust', u'exhibit', u'exhibits', u'exist', u'existed', u'exit', u'exotic', u'expect', u'expectation', u'expectations', u'expected', u'expecting', u'expense', u'expensive', u'experience', u'experienced', u'experiences', u'experiencing', u'expert', u'explain', u'explained', u'explaining', u'explains', u'explanation', u'explode', u'explore', u'exploring', u'exposed', u'express', u'exquisite', u'extensive', u'exterior', u'extra', u'extras', u'extreme', u'extremely', u'eye', u'eyebrow', u'eyes', u'fab', u'fabric', u'fabulous', u'face', u'facebook', u'faces', u'facial', u'facials', u'facilities', u'facility', u'facing', u'fact', u'factor', u'factory', u'facts', u'fail', u'failed', u'fails', u'fair', u'fairly', u'fairways', u'fajita', u'fajitas', u'fake', u'falafel', u'fall', u'fallen', u'falling', u'falls', u'familiar', u'families', u'family', u'famous', u'fan', u'fancy', u'fans', u'fantastic', u'far', u'fare', u'farm', u'farmer', u'farmers', u'farms', u'fashion', u'fast', u'faster', u'fat', u'fate', u'father', u'fatty', u'fault', u'faux', u'fav', u'fave', u'faves', u'favor', u'favorite', u'favorites', u'favors', u'favourite', u'favs', u'fe', u'fear', u'feast', u'feature', u'featured', u'features', u'featuring', u'fed', u'fedex', u'fee', u'feed', u'feedback', u'feel', u'feeling', u'feels', u'fees', u'feet', u'fell', u'fellow', u'felt', u'female', u'fenced', u'fennel', u'festive', u'festivities', u'feta', u'fez', u'fi', u'fiance', u'field', u'fields', u'fig', u'fight', u'figs', u'figure', u'figured', u'filed', u'filet', u'filipino', u'filled', u'fillet', u'filling', u'fills', u'film', u'films', u'filthy', u'final', u'finally', u'finding', u'finds', u'fine', u'finest', u'finger', u'fingers', u'finish', u'finished', u'finishing', u'fired', u'fireplace', u'fireplaces', u'firm', u'fish', u'fit', u'fitness', u'fits', u'fitting', u'fix', u'fixed', u'fixing', u'flag', u'flagstaff', u'flaky', u'flash', u'flat', u'flatbread', u'flatbreads', u'flavor', u'flavored', u'flavorful', u'flavorless', u'flavors', u'flawless', u'flier', u'flight', u'flights', u'flip', u'floor', u'floors', u'flour', u'flower', u'flowers', u'fluffy', u'fly', u'flying', u'fnb', u'focaccia', u'focus', u'focused', u'fogo', u'folks', u'follow', u'followed', u'following', u'fond', u'fondue', u'fontina', u'food', u'foodie', u'foodies', u'foods', u'fool', u'foot', u'football', u'forbidden', u'force', u'forced', u'forever', u'forget', u'forgetting', u'forgive', u'forgo', u'forgot', u'forgotten', u'fork', u'forks', u'form', u'forms', u'forth', u'fortunate', u'fortunately', u'fortune', u'forward', u'fountain', u'fourth', u'fox', u'frame', u'frames', u'franchise', u'francis', u'francisco', u'frank', u'frankly', u'freakin', u'freaking', u'fred', u'free', u'freeway', u'freeze', u'freezer', u'french', u'frequent', u'frequented', u'frequenting', u'frequently', u'fresh', u'freshest', u'freshly', u'freshness', u'fri', u'friday', u'fridays', u'fridge', u'fried', u'friend', u'friendlier', u'friendly', u'friends', u'fries', u'friggin', u'fritters', u'fro', u'frosted', u'frosting', u'froyo', u'frozen', u'fruit', u'fruits', u'fruity', u'frustrated', u'frustration', u'fry', u'fuck', u'fucking', u'fudge', u'fuego', u'fuel', u'fully', u'fun', u'fundraising', u'funky', u'funny', u'furniture', u'furry', u'fuse', u'fusion', u'fuss', u'future', u'fyi', u'gal', u'gallery', u'gallo', u'gallon', u'game', u'games', u'garage', u'garbage', u'garden', u'garlic', u'gas', u'gate', u'gathered', u'gave', u'gay', u'gel', u'gelato', u'gem', u'general', u'generally', u'generic', u'generous', u'generously', u'genius', u'gentle', u'gentleman', u'gentlemen', u'gently', u'genuine', u'genuinely', u'german', u'gets', u'getting', u'gf', u'ghost', u'giant', u'giants', u'gift', u'gifts', u'gigantic', u'gil', u'gilbert', u'ginger', u'girl', u'girlfriend', u'girlfriends', u'girls', u'given', u'gives', u'giving', u'glad', u'gladly', u'glass', u'glasses', u'glaze', u'glazed', u'glendale', u'glory', u'gloves', u'gluten', u'gm', u'gnocchi', u'goat', u'god', u'goes', u'going', u'gold', u'golden', u'golf', u'gone', u'gonna', u'good', u'goodies', u'goodness', u'goods', u'goodwill', u'gooey', u'google', u'goose', u'gorgeous', u'gosh', u'got', u'gotta', u'gotten', u'gourmet', u'gps', u'grab', u'grabbed', u'grabbing', u'grace', u'gracious', u'grain', u'grand', u'grande', u'grandma', u'grandmother', u'grandparents', u'granola', u'granted', u'grapefruit', u'grass', u'grateful', u'gratuity', u'gravy', u'grease', u'greasy', u'great', u'greater', u'greatest', u'greek', u'green', u'greens', u'greet', u'greeted', u'greg', u'grew', u'grey', u'grill', u'grilled', u'grimaldi', u'grits', u'grocer', u'groceries', u'grocery', u'groomer', u'grooming', u'gross', u'ground', u'grounds', u'group', u'groupon', u'groups', u'grow', u'growing', u'growler', u'grown', u'grub', u'guac', u'guacamole', u'guarantee', u'guaranteed', u'guess', u'guessing', u'guest', u'guests', u'guide', u'guilty', u'guinness', u'guitar', u'gun', u'gut', u'guy', u'guys', u'gym', u'gymboree', u'gyms', u'gyoza', u'gyro', u'gyros', u'ha', u'habanero', u'habaneros', u'habit', u'hadn', u'haha', u'hair', u'haircut', u'haircuts', u'hairs', u'half', u'halibut', u'hall', u'halloween', u'hallway', u'ham', u'hamburger', u'hana', u'hand', u'handed', u'handful', u'handle', u'handled', u'hands', u'handy', u'hang', u'hanging', u'hangout', u'hangover', u'hangs', u'hanson', u'happen', u'happened', u'happening', u'happens', u'happier', u'happily', u'happy', u'harbor', u'hard', u'harder', u'hardly', u'harkins', u'harsh', u'harvil', u'hash', u'hashbrowns', u'hasn', u'hassle', u'hat', u'hatch', u'hate', u'hated', u'hateful', u'hats', u'hauled', u'havarti', u'haven', u'having', u'hawaiian', u'hay', u'hazelnut', u'head', u'headed', u'heading', u'heads', u'healing', u'health', u'healthier', u'healthy', u'hear', u'heard', u'hearing', u'heart', u'hearts', u'hearty', u'heat', u'heated', u'heaven', u'heavenly', u'heavily', u'heavy', u'heck', u'heels', u'hefty', u'height', u'held', u'hell', u'hello', u'help', u'helped', u'helpful', u'helping', u'helps', u'herb', u'herbs', u'heritage', u'hesitant', u'hesitate', u'hey', u'hh', u'hi', u'hidden', u'hide', u'hiding', u'high', u'higher', u'highest', u'highlight', u'highlights', u'highly', u'hike', u'hiking', u'hilarious', u'hill', u'hills', u'hint', u'hip', u'hippies', u'hipster', u'hipsters', u'hire', u'historic', u'history', u'hit', u'hits', u'ho', u'hoa', u'hobby', u'hog', u'hold', u'holding', u'holds', u'hole', u'holes', u'holiday', u'holidays', u'holy', u'home', u'homeless', u'homemade', u'honest', u'honestly', u'honesty', u'honey', u'hong', u'honor', u'hoo', u'hooked', u'hop', u'hope', u'hopefully', u'hopes', u'hoping', u'horchata', u'horrendous', u'horrible', u'horribly', u'horse', u'horseradish', u'horses', u'hospitable', u'hospital', u'host', u'hostess', u'hostesses', u'hosting', u'hosts', u'hot', u'hotdog', u'hotdogs', u'hotel', u'hotels', u'hour', u'hours', u'house', u'houses', u'houston', u'howard', u'hr', u'html', u'http', u'hubby', u'hubs', u'hubster', u'hue', u'huge', u'human', u'humble', u'hummus', u'hundreds', u'hung', u'hungry', u'hunt', u'hunting', u'hurry', u'hurt', u'hurts', u'husband', u'hustle', u'hut', u'hype', u'ice', u'icecream', u'iced', u'icing', u'id', u'idea', u'ideal', u'ideas', u'idiot', u'idiots', u'ignore', u'ignored', u'ikea', u'il', u'ill', u'im', u'imagine', u'imagined', u'immaculate', u'immediate', u'immediately', u'immune', u'impeccable', u'important', u'importantly', u'imported', u'impossible', u'impress', u'impressed', u'impressive', u'improve', u'improved', u'inch', u'incident', u'include', u'included', u'includes', u'including', u'incompetent', u'incredible', u'incredibly', u'independent', u'indian', u'indicated', u'individual', u'individually', u'individuals', u'indoor', u'indulge', u'indulged', u'indulging', u'industrial', u'industry', u'inedible', u'inexpensive', u'infection', u'info', u'inform', u'information', u'informative', u'informed', u'infused', u'ing', u'ingredient', u'ingredients', u'initial', u'initially', u'injury', u'inn', u'innova', u'innovative', u'input', u'ins', u'insanely', u'inside', u'insisted', u'inspired', u'install', u'installed', u'instance', u'instant', u'instantly', u'instead', u'instructors', u'instruments', u'insurance', u'intend', u'intended', u'intense', u'interaction', u'interactions', u'interested', u'interesting', u'interior', u'internet', u'interrupted', u'intimate', u'intimidated', u'intimidating', u'intoxicating', u'intrigued', u'introduced', u'introducing', u'intrusive', u'inventory', u'invisible', u'invited', u'inviting', u'involved', u'involves', u'ipa', u'ipad', u'iphone', u'ipod', u'irish', u'irma', u'iron', u'ironically', u'ish', u'island', u'isn', u'isnt', u'issue', u'issues', u'italian', u'italy', u'item', u'items', u'ive', u'ivy', u'jack', u'jade', u'jalapeno', u'jalapenos', u'jalape\\xf1o', u'jam', u'james', u'jan', u'japan', u'japanese', u'jar', u'jason', u'java', u'jazz', u'jeans', u'jeff', u'jelly', u'jen', u'jennifer', u'jenny', u'jerk', u'jerky', u'jesus', u'jewelry', u'jewish', u'jim', u'jimmy', u'job', u'jobs', u'joe', u'joes', u'john', u'johnny', u'join', u'joined', u'joint', u'joints', u'joke', u'joked', u'journey', u'joy', u'jr', u'judge', u'juice', u'juices', u'juicy', u'july', u'jumbo', u'jump', u'jungle', u'junk', u'junkie', u'jus', u'just', u'justify', u'kabob', u'kale', u'karaoke', u'katie', u'keeping', u'keeps', u'ken', u'kept', u'ketchup', u'key', u'keys', u'kick', u'kid', u'kidding', u'kids', u'kierland', u'kill', u'killed', u'killer', u'kilt', u'kimchi', u'kind', u'kinda', u'kindly', u'kinds', u'king', u'kitchen', u'kitty', u'knees', u'knew', u'knife', u'knives', u'knock', u'knocked', u'knot', u'knots', u'know', u'knowing', u'knowledgable', u'knowledge', u'knowledgeable', u'known', u'knows', u'kobe', u'kona', u'kong', u'korean', u'kreme', u'krispy', u'kudos', u'kung', u'kyle', u'la', u'lab', u'labeled', u'lack', u'lacked', u'lacking', u'lacks', u'ladies', u'lady', u'lai', u'laid', u'lake', u'lamar', u'lamb', u'lame', u'lamps', u'land', u'landing', u'lane', u'language', u'lap', u'laptop', u'lard', u'laredo', u'large', u'larger', u'largest', u'las', u'lasagna', u'lasted', u'lastly', u'late', u'lately', u'later', u'latest', u'latte', u'lattes', u'laugh', u'laughed', u'laughing', u'laura', u'law', u'lay', u'layered', u'layout', u'lazy', u'lb', u'lbs', u'le', u'leaf', u'league', u'leah', u'leak', u'learn', u'learned', u'leash', u'leather', u'leave', u'leaves', u'leaving', u'led', u'lee', u'left', u'leftovers', u'leg', u'legit', u'legs', u'lemon', u'lemonade', u'length', u'lengua', u'lentils', u'lesson', u'let', u'lets', u'letter', u'letters', u'letting', u'lettuce', u'level', u'levels', u'lgo', u'liberty', u'library', u'license', u'lie', u'life', u'lifetime', u'lift', u'lifter', u'light', u'lighter', u'lighting', u'lightly', u'lights', u'like', u'liked', u'likely', u'likes', u'lil', u'lime', u'limit', u'limited', u'limo', u'lincoln', u'lindsay', u'line', u'lined', u'linen', u'lines', u'lion', u'liquor', u'liquors', u'lisa', u'list', u'listed', u'listen', u'listened', u'listening', u'lit', u'literally', u'little', u'live', u'lived', u'lively', u'liver', u'lives', u'living', u'll', u'lo', u'load', u'loaded', u'loads', u'loaves', u'lobby', u'lobbys', u'lobster', u'local', u'locally', u'locals', u'locate', u'located', u'location', u'locations', u'lock', u'locked', u'locker', u'lodge', u'lol', u'lola', u'lollipops', u'lolo', u'lon', u'london', u'lonely', u'long', u'longer', u'look', u'looked', u'looking', u'looks', u'loop', u'loose', u'los', u'lose', u'loss', u'lost', u'lot', u'lots', u'loud', u'loudly', u'louis', u'lounge', u'lousy', u'love', u'loved', u'lovely', u'lover', u'lovers', u'loves', u'loving', u'low', u'lower', u'loyal', u'luck', u'luckily', u'lucky', u'luggage', u'luis', u'luke', u'luminarias', u'lumpia', u'lunch', u'lunches', u'lunchtime', u'lush', u'lux', u'ma', u'mac', u'macaroni', u'macayo', u'machine', u'machines', u'macy', u'mad', u'magazine', u'magazines', u'magic', u'magical', u'magnificent', u'mahi', u'mai', u'mail', u'main', u'mainly', u'mainstream', u'maintain', u'maintained', u'maintenance', u'majerles', u'major', u'majority', u'make', u'makes', u'making', u'malbec', u'male', u'mall', u'mama', u'man', u'manage', u'managed', u'management', u'manager', u'managers', u'mandarin', u'mango', u'mani', u'manicure', u'manner', u'map', u'maple', u'march', u'marco', u'margarita', u'margaritas', u'margherita', u'marinara', u'marinated', u'mark', u'market', u'marketplace', u'markets', u'marks', u'marquee', u'mart', u'martini', u'martinis', u'marvelous', u'mary', u'masala', u'mascarpone', u'mash', u'mashed', u'mason', u'massage', u'massages', u'massive', u'masterpiece', u'mastro', u'match', u'material', u'matt', u'matter', u'matters', u'maui', u'max', u'maybe', u'mayo', u'mcdonald', u'mcdonalds', u'meal', u'meals', u'mean', u'meaning', u'means', u'meant', u'measure', u'meat', u'meatball', u'meatballs', u'meatloaf', u'meats', u'meaty', u'mechanic', u'mechanical', u'medical', u'mediocre', u'mediterranean', u'medium', u'medley', u'meet', u'meeting', u'meetings', u'meets', u'mekong', u'mellow', u'melt', u'melted', u'melts', u'member', u'members', u'membership', u'memorable', u'memories', u'memory', u'men', u'mention', u'mentioned', u'mentioning', u'menu', u'menus', u'merchandise', u'merely', u'meringue', u'mesa', u'mesquite', u'mess', u'message', u'messed', u'messy', u'met', u'metal', u'metro', u'mexican', u'mexico', u'mia', u'michael', u'michaels', u'microwave', u'mid', u'middle', u'midnight', u'mike', u'milano', u'mild', u'mile', u'miles', u'milk', u'milkshake', u'million', u'mimi', u'mimosas', u'min', u'minced', u'mind', u'mini', u'miniature', u'minimum', u'minnesota', u'minor', u'mins', u'mint', u'minute', u'minutes', u'mirror', u'miserable', u'miso', u'miss', u'missed', u'missing', u'mission', u'mistake', u'misters', u'mix', u'mixed', u'mixture', u'mlb', u'mmm', u'mmmm', u'mocha', u'mock', u'models', u'modern', u'modest', u'moist', u'mojito', u'mojitos', u'mojo', u'mold', u'mom', u'moment', u'moments', u'mon', u'monday', u'mondays', u'money', u'mongolian', u'monkey', u'monster', u'monte', u'month', u'monthly', u'months', u'mood', u'moon', u'morning', u'mornings', u'motel', u'mother', u'mothers', u'motor', u'mountain', u'mountains', u'mousse', u'mouth', u'mouths', u'moved', u'moves', u'movie', u'movies', u'moving', u'mozzarella', u'mr', u'mrs', u'msg', u'mucho', u'muffin', u'muffins', u'mugs', u'multi', u'multiple', u'multitude', u'museum', u'mush', u'mushroom', u'mushrooms', u'mushy', u'music', u'mussels', u'mustard', u'mystery', u'na', u'naan', u'nachos', u'nada', u'nail', u'nails', u'naked', u'nam', u'named', u'names', u'nap', u'napkin', u'napkins', u'narrow', u'nasty', u'natcher', u'nation', u'national', u'native', u'natural', u'naturally', u'nature', u'navigate', u'near', u'nearby', u'nearly', u'neat', u'necessary', u'neck', u'need', u'needed', u'needing', u'needless', u'needs', u'negative', u'neighbor', u'neighborhood', u'neighbors', u'nervous', u'nestled', u'network', u'new', u'newer', u'newly', u'news', u'newspaper', u'ngd', u'nibbles', u'nice', u'nicely', u'nicer', u'nicest', u'nick', u'niece', u'night', u'nightmare', u'nights', u'nigiri', u'nike', u'ninja', u'nitris', u'noble', u'nobuo', u'noca', u'nod', u'noise', u'noisy', u'nom', u'non', u'nonetheless', u'nonsense', u'noodle', u'noodles', u'noon', u'nope', u'nordstrom', u'norm', u'normal', u'normally', u'north', u'northern', u'nose', u'notch', u'note', u'noted', u'notes', u'notice', u'noticed', u'novel', u'november', u'number', u'numbers', u'numero', u'numerous', u'nut', u'nutella', u'nuts', u'ny', u'nyc', u'oasis', u'oatmeal', u'obligatory', u'obnoxious', u'obvious', u'obviously', u'occasion', u'occasional', u'occasionally', u'occasions', u'ocean', u'october', u'odd', u'odor', u'offer', u'offered', u'offering', u'offerings', u'offers', u'office', u'offices', u'officially', u'oh', u'oil', u'oily', u'ok', u'okay', u'ol', u'old', u'older', u'olive', u'olives', u'omelet', u'omelette', u'omg', u'ones', u'onion', u'onions', u'online', u'open', u'opened', u'opening', u'opens', u'operated', u'opinion', u'opportunity', u'opposed', u'opposite', u'opted', u'option', u'options', u'orange', u'order', u'ordered', u'ordering', u'orders', u'ordinary', u'oregano', u'org', u'organic', u'organization', u'organized', u'oriented', u'original', u'originally', u'ounce', u'ounces', u'outdated', u'outdoor', u'outdoors', u'outrageous', u'outright', u'outside', u'outstanding', u'outta', u'oven', u'overall', u'overbearing', u'overcooked', u'overflow', u'overflowing', u'overlooked', u'overlooking', u'overly', u'overpriced', u'overweight', u'overwhelmed', u'overwhelming', u'owe', u'owned', u'owner', u'owners', u'ownership', u'owns', u'oysters', u'oz', u'pace', u'pack', u'package', u'packaged', u'packages', u'packed', u'packs', u'pad', u'page', u'paid', u'pain', u'painful', u'paint', u'painted', u'painting', u'pair', u'paired', u'pairing', u'pairings', u'pairs', u'palace', u'palate', u'pale', u'palette', u'palm', u'palms', u'pamper', u'pan', u'panang', u'pancake', u'pancakes', u'panda', u'pane', u'panel', u'panini', u'panna', u'pants', u'pao', u'papaya', u'paper', u'papers', u'par', u'paradise', u'parent', u'parents', u'park', u'parked', u'parking', u'parm', u'parmesan', u'particular', u'particularly', u'parties', u'partner', u'parts', u'party', u'pass', u'passed', u'passing', u'passion', u'passionate', u'past', u'pasta', u'pastas', u'paste', u'pasties', u'pastor', u'pastrami', u'pastries', u'pastry', u'pasty', u'pat', u'path', u'pathetic', u'paths', u'patience', u'patient', u'patiently', u'patients', u'patio', u'patios', u'patron', u'patronage', u'patronize', u'patrons', u'patties', u'patty', u'paul', u'pavle', u'pay', u'paying', u'pays', u'pea', u'peace', u'peaceful', u'peach', u'peak', u'peaks', u'peanut', u'peanuts', u'pear', u'peas', u'pecan', u'pecans', u'pedi', u'pedicure', u'pedicures', u'pee', u'peek', u'pei', u'penny', u'people', u'peoria', u'pepper', u'pepperoni', u'peppers', u'peppery', u'perfect', u'perfected', u'perfection', u'perfectly', u'perform', u'performance', u'period', u'perks', u'persian', u'person', u'personable', u'personal', u'personality', u'personally', u'personnel', u'pesto', u'pet', u'petals', u'pets', u'pf', u'pharmacy', u'phenomenal', u'phil', u'philly', u'pho', u'phoenician', u'phoenix', u'phone', u'photo', u'photography', u'photos', u'phx', u'physical', u'picazzo', u'pick', u'picked', u'picking', u'pickle', u'pickled', u'pickles', u'picks', u'picky', u'picnic', u'pico', u'pics', u'picture', u'pictures', u'pie', u'piece', u'pieces', u'pies', u'piestewa', u'pig', u'pile', u'piled', u'pineapple', u'pink', u'pinot', u'pint', u'piping', u'pischke', u'piss', u'pissed', u'pita', u'pitas', u'pits', u'pizza', u'pizzas', u'pizzeria', u'place', u'placed', u'places', u'placing', u'plain', u'plan', u'plane', u'planned', u'planning', u'plans', u'plant', u'plants', u'plastic', u'plate', u'plates', u'platter', u'play', u'played', u'player', u'players', u'playing', u'plays', u'plaza', u'pleasant', u'pleasantly', u'pleased', u'pleasure', u'plentiful', u'plenty', u'plethora', u'plus', u'plush', u'pm', u'po', u'poached', u'poblano', u'pocket', u'pockets', u'point', u'pointed', u'pointing', u'points', u'poisoning', u'poke', u'poker', u'polenta', u'police', u'polish', u'polished', u'polite', u'politely', u'pollo', u'pomegranate', u'pool', u'pools', u'poolside', u'poor', u'pop', u'popcorn', u'popped', u'popular', u'pork', u'porter', u'portion', u'portions', u'posh', u'positive', u'possible', u'possibly', u'post', u'posted', u'postino', u'postinos', u'pot', u'potato', u'potatoes', u'potential', u'potstickers', u'pound', u'pour', u'poured', u'powder', u'power', u'practically', u'practice', u'practices', u'praise', u'pre', u'precious', u'prefer', u'preferred', u'pregnant', u'premade', u'premium', u'prep', u'preparation', u'prepare', u'prepared', u'preparing', u'prescriptions', u'presence', u'present', u'presentation', u'presented', u'preservatives', u'presidential', u'press', u'pressed', u'pressure', u'pretend', u'pretentious', u'pretty', u'pretzel', u'pretzels', u'prevent', u'previous', u'previously', u'price', u'priced', u'prices', u'pricey', u'pricier', u'pricing', u'pricy', u'pride', u'primary', u'prime', u'princess', u'print', u'prior', u'private', u'privately', u'pro', u'probably', u'problem', u'problems', u'procedure', u'proceeded', u'process', u'processed', u'produce', u'product', u'products', u'professional', u'professionalism', u'profit', u'program', u'programs', u'progress', u'project', u'promise', u'promised', u'prompt', u'promptly', u'proper', u'properly', u'property', u'props', u'pros', u'prosciutto', u'protein', u'proud', u'provide', u'provided', u'provides', u'providing', u'provolone', u'proximity', u'ps', u'pub', u'public', u'pudding', u'puff', u'puffs', u'pull', u'pulled', u'pulling', u'pulls', u'pump', u'pumpkin', u'punch', u'puppy', u'purchase', u'purchased', u'purchases', u'purchasing', u'pure', u'puree', u'purple', u'purse', u'purses', u'push', u'pushed', u'pushy', u'puts', u'putting', u'qdoba', u'qt', u'quaint', u'quality', u'quarter', u'queen', u'quesadilla', u'quesadillas', u'queso', u'quest', u'question', u'questions', u'quiche', u'quick', u'quickly', u'quiet', u'quit', u'quite', u'quote', u'quoted', u'ra', u'rabbit', u'race', u'racing', u'rack', u'rad', u'radiator', u'radio', u'rail', u'railing', u'rain', u'rainbow', u'raise', u'raised', u'ramen', u'ran', u'ranch', u'rancid', u'random', u'randy', u'rang', u'range', u'rare', u'rarely', u'raspberry', u'rate', u'rated', u'rates', u'rating', u'ratings', u'rave', u'raved', u'raving', u'ravioli', u'raw', u'razor', u'rd', u'rds', u'reach', u'reaching', u'reaction', u'read', u'reading', u'ready', u'real', u'reality', u'realize', u'realized', u'really', u'reason', u'reasonable', u'reasonably', u'reasons', u'recall', u'reccomend', u'receipt', u'receive', u'received', u'receives', u'receiving', u'recent', u'recently', u'reception', u'receptionist', u'recipe', u'recliner', u'recognize', u'recognized', u'recommend', u'recommendation', u'recommendations', u'recommended', u'recommending', u'record', u'red', u'reese', u'refer', u'reference', u'referred', u'refill', u'refilled', u'refills', u'refreshing', u'refried', u'refund', u'refused', u'regarding', u'regardless', u'register', u'regret', u'regular', u'regularly', u'regulars', u'related', u'relationship', u'relatively', u'relax', u'relaxed', u'relaxing', u'reliably', u'relief', u'relish', u'relleno', u'rely', u'remaining', u'remains', u'remember', u'remembered', u'remembers', u'remind', u'reminded', u'reminds', u'remotely', u'remove', u'removed', u'renovated', u'rent', u'rental', u'repair', u'repaired', u'repeat', u'replace', u'replaced', u'replacing', u'replied', u'reply', u'report', u'republic', u'request', u'requested', u'requests', u'require', u'required', u'requirement', u'requires', u'rescue', u'research', u'reservation', u'reservations', u'residence', u'resist', u'resort', u'resorts', u'respect', u'responded', u'response', u'responses', u'responsibility', u'responsible', u'rest', u'restaurant', u'restaurants', u'restroom', u'resturant', u'result', u'results', u'retail', u'retro', u'return', u'returned', u'returning', u'reuben', u'review', u'reviewed', u'reviewer', u'reviewers', u'reviewing', u'reviews', u'rib', u'ribbon', u'ribs', u'rice', u'rich', u'ricotta', u'ride', u'rides', u'ridiculous', u'ridiculously', u'riding', u'right', u'ring', u'rings', u'rio', u'rip', u'ripped', u'risotto', u'river', u'rnr', u'road', u'roast', u'roasted', u'robert', u'robin', u'rock', u'rocked', u'rocket', u'rocks', u'role', u'roll', u'rolled', u'rolling', u'rolls', u'roma', u'romaine', u'romantic', u'roof', u'room', u'rooms', u'roomy', u'roosevelt', u'root', u'rose', u'rosemary', u'ross', u'rotation', u'rotisserie', u'rough', u'round', u'rounded', u'routine', u'row', u'roy', u'royal', u'rub', u'rubbery', u'ruby', u'rude', u'rudely', u'ruined', u'rule', u'rules', u'rum', u'run', u'running', u'runs', u'rush', u'rushed', u'ruth', u'rye', u'sa', u'sacks', u'sad', u'sadly', u'safe', u'safely', u'safeway', u'saffron', u'sage', u'saguaro', u'said', u'saigon', u'sake', u'salad', u'salads', u'salami', u'sale', u'sales', u'salmon', u'salon', u'salons', u'salsa', u'salsas', u'salt', u'salted', u'salty', u'sam', u'sample', u'sampled', u'sampler', u'samples', u'sampling', u'san', u'sanctuary', u'sand', u'sandwhich', u'sandwich', u'sandwiches', u'sangria', u'sans', u'santa', u'sapporo', u'sarah', u'sashimi', u'sat', u'satay', u'satisfied', u'satisfy', u'satisfying', u'saturated', u'saturday', u'saturdays', u'sauce', u'sauced', u'sauces', u'sauna', u'sausage', u'sausages', u'sauteed', u'save', u'saved', u'saving', u'savory', u'saw', u'say', u'sayin', u'saying', u'says', u'scale', u'scallop', u'scallops', u'scared', u'scary', u'scattered', u'scene', u'scenery', u'scenes', u'schedule', u'scheduled', u'scheduling', u'school', u'scoop', u'scoops', u'score', u'scored', u'scott', u'scottsdale', u'scrambled', u'scratch', u'scream', u'screamed', u'screaming', u'screen', u'screens', u'screw', u'screwed', u'scrumptious', u'sea', u'seafood', u'search', u'searched', u'searching', u'seared', u'season', u'seasonal', u'seasoned', u'seasoning', u'seat', u'seated', u'seating', u'seats', u'seattle', u'seaweed', u'second', u'seconds', u'secret', u'section', u'security', u'sedona', u'seeds', u'seeing', u'seen', u'select', u'selected', u'selection', u'selections', u'self', u'sell', u'selling', u'sells', u'semi', u'sen', u'send', u'senior', u'senor', u'sens', u'sense', u'sent', u'separate', u'september', u'series', u'seriously', u'serve', u'served', u'server', u'servers', u'serves', u'service', u'services', u'serving', u'servings', u'set', u'sets', u'setting', u'settle', u'setup', u'seven', u'severely', u'sex', u'sexy', u'sf', u'sh', u'shabby', u'shade', u'shady', u'shake', u'shakes', u'shall', u'shame', u'shank', u'shape', u'shaped', u'share', u'shared', u'sharing', u'sharp', u'shave', u'shaved', u'shaving', u'shawarma', u'shea', u'sheer', u'sheet', u'shelf', u'shell', u'shelves', u'shift', u'shiny', u'ship', u'shipping', u'shirt', u'shirts', u'shit', u'shock', u'shocked', u'shoe', u'shoes', u'shoot', u'shooting', u'shop', u'shopper', u'shopping', u'shops', u'short', u'shortly', u'shorts', u'shot', u'shots', u'shoulder', u'shoulders', u'shouldn', u'showed', u'shower', u'showing', u'shown', u'shows', u'shredded', u'shrimp', u'shu', u'shut', u'sick', u'sides', u'sigh', u'sight', u'sign', u'signature', u'signed', u'significant', u'significantly', u'signs', u'silly', u'silver', u'silverware', u'similar', u'simple', u'simply', u'sinfully', u'sing', u'singing', u'single', u'sink', u'sinks', u'sip', u'sirloin', u'sister', u'sit', u'site', u'sites', u'sitter', u'sitting', u'situated', u'situation', u'sixth', u'size', u'sized', u'sizes', u'sizzling', u'skeptical', u'sketchy', u'skewers', u'skillet', u'skills', u'skimp', u'skin', u'skinny', u'skins', u'skip', u'skipped', u'skirt', u'sky', u'slammed', u'slaw', u'sleek', u'sleep', u'sleeve', u'slice', u'sliced', u'slices', u'slide', u'slider', u'sliders', u'slides', u'slight', u'slightly', u'slow', u'slowly', u'smack', u'small', u'smaller', u'smallest', u'smart', u'smash', u'smashed', u'smell', u'smelled', u'smelling', u'smells', u'smile', u'smiled', u'smiles', u'smiling', u'smoke', u'smoked', u'smoking', u'smoky', u'smooth', u'smoothies', u'smothered', u'snack', u'snacks', u'snickerdoodle', u'snob', u'snow', u'soaking', u'social', u'socks', u'soda', u'sodas', u'soft', u'soggy', u'sol', u'sold', u'solid', u'solo', u'solution', u'somebody', u'someday', u'somewhat', u'sommelier', u'son', u'song', u'sonic', u'sonoran', u'sons', u'soo', u'soon', u'sooo', u'soooo', u'sooooo', u'sorbet', u'sore', u'sorry', u'sort', u'sorts', u'soul', u'sound', u'sounded', u'sounds', u'soup', u'soups', u'sour', u'sourdough', u'south', u'southern', u'southwest', u'soy', u'sp', u'spa', u'space', u'spacious', u'spaghetti', u'spanish', u'spare', u'speak', u'speaking', u'special', u'specials', u'specialty', u'specific', u'specifically', u'spectacular', u'speed', u'speedy', u'spencer', u'spend', u'spending', u'spent', u'spice', u'spiced', u'spices', u'spicy', u'spilled', u'spin', u'spinach', u'spirits', u'spit', u'splash', u'split', u'splitting', u'splurge', u'spoiled', u'spoke', u'spoken', u'spongy', u'spoon', u'spoons', u'sport', u'sports', u'spot', u'spotless', u'spots', u'spotted', u'spray', u'spread', u'spring', u'springs', u'sprinkled', u'sprinkles', u'sprouts', u'square', u'squash', u'squaw', u'squeeze', u'squeezed', u'squeezing', u'squid', u'squishy', u'st', u'stack', u'stadium', u'staff', u'staffed', u'staffperson', u'stage', u'stairs', u'stale', u'stand', u'standard', u'standards', u'standing', u'standout', u'stands', u'staple', u'star', u'starbucks', u'stared', u'staring', u'stars', u'start', u'started', u'starter', u'starters', u'starting', u'starts', u'starving', u'state', u'stated', u'statement', u'states', u'station', u'stations', u'stay', u'stayed', u'staying', u'stays', u'steady', u'steak', u'steakhouse', u'steaks', u'steal', u'steam', u'steamed', u'steep', u'stellar', u'step', u'stepped', u'steps', u'stetson', u'steve', u'stew', u'stick', u'stickers', u'sticking', u'sticks', u'sticky', u'stir', u'stock', u'stocked', u'stockyards', u'stoked', u'stole', u'stomach', u'stone', u'stood', u'stop', u'stopped', u'stopping', u'stops', u'store', u'stores', u'stories', u'story', u'stout', u'straight', u'strand', u'strange', u'straw', u'strawberries', u'strawberry', u'stream', u'street', u'streets', u'strength', u'stress', u'stressed', u'stretch', u'strictly', u'strip', u'strips', u'strong', u'strongly', u'struck', u'struggled', u'struggling', u'stuck', u'student', u'students', u'studio', u'studios', u'study', u'stuff', u'stuffed', u'stuffing', u'stuffy', u'stumbled', u'stunned', u'stunning', u'stupid', u'style', u'styles', u'stylish', u'stylist', u'styrofoam', u'sub', u'subs', u'substandard', u'substitutions', u'subtle', u'subway', u'success', u'successful', u'succulent', u'suck', u'sucked', u'sucker', u'sucking', u'sucks', u'suddenly', u'sugar', u'suggest', u'suggested', u'suggestion', u'suggestions', u'suggests', u'suit', u'suite', u'suited', u'suits', u'sum', u'summary', u'summer', u'summit', u'sun', u'sundae', u'sunday', u'sundays', u'sunflower', u'sunny', u'suns', u'sunscreens', u'sunset', u'sunshine', u'super', u'superb', u'superbowl', u'superior', u'supermarket', u'superstition', u'supplies', u'supply', u'support', u'supporting', u'suppose', u'supposed', u'supposedly', u'sure', u'surely', u'surprise', u'surprised', u'surprising', u'surprisingly', u'surrounded', u'surrounding', u'surroundings', u'survive', u'sushi', u'suspect', u'sustainable', u'swear', u'sweat', u'sweeping', u'sweet', u'sweeter', u'sweetheart', u'sweetness', u'sweets', u'swim', u'swimming', u'swing', u'swirl', u'swiss', u'switch', u'switched', u'swordfish', u'syrup', u'tab', u'table', u'tables', u'tacky', u'taco', u'tacos', u'tad', u'tag', u'tags', u'tai', u'tail', u'taken', u'takeout', u'takes', u'taking', u'talent', u'talented', u'talk', u'talked', u'talking', u'talks', u'tall', u'tamales', u'tammie', u'tan', u'tank', u'tap', u'tapas', u'target', u'tart', u'tartar', u'taste', u'tastebuds', u'tasted', u'tasteful', u'tasteless', u'tastes', u'tasting', u'tasty', u'tataki', u'tater', u'taught', u'tavern', u'tax', u'tea', u'teach', u'teacher', u'teachers', u'team', u'tears', u'teas', u'tech', u'technician', u'techs', u'ted', u'teenager', u'teeth', u'tell', u'telling', u'tells', u'tempe', u'temperature', u'tempura', u'tend', u'tender', u'tenderloin', u'tenders', u'tequila', u'teriyaki', u'term', u'terms', u'terrible', u'terribly', u'terrific', u'test', u'texas', u'texture', u'thai', u'thank', u'thanked', u'thankful', u'thankfully', u'thanks', u'thanksgiving', u'thats', u'theater', u'theaters', u'theatre', u'theirs', u'theme', u'therapist', u'thermostat', u'thier', u'thing', u'things', u'think', u'thinking', u'thinks', u'thomas', u'thorough', u'thoroughly', u'thought', u'thousand', u'threw', u'thrilled', u'throw', u'throwing', u'thrown', u'thumb', u'thumbs', u'thursday', u'ticket', u'tickets', u'ticoz', u'tight', u'tikka', u'til', u'till', u'tim', u'time', u'timely', u'times', u'timing', u'tiny', u'tip', u'tips', u'tiramisu', u'tire', u'tired', u'tires', u'title', u'tj', u'toast', u'toasted', u'today', u'todd', u'toddler', u'toe', u'toes', u'toffee', u'tofu', u'toilet', u'tokyo', u'told', u'tom', u'tomato', u'tomatoes', u'tommy', u'tomorrow', u'ton', u'tone', u'tongue', u'tonic', u'tonight', u'tons', u'tony', u'took', u'tools', u'tooth', u'topped', u'topping', u'toppings', u'tops', u'torta', u'tortilla', u'tortillas', u'tossed', u'tossing', u'total', u'totally', u'tots', u'tottie', u'touch', u'touched', u'touching', u'tough', u'tour', u'tourist', u'tours', u'tow', u'towel', u'towels', u'tower', u'town', u'toys', u'track', u'tracks', u'trade', u'trader', u'tradition', u'traditional', u'traffic', u'trail', u'trails', u'train', u'trained', u'trainer', u'training', u'transaction', u'transport', u'trash', u'travel', u'traveled', u'traveling', u'travels', u'travelzoo', u'tray', u'treadmill', u'treasure', u'treasures', u'treat', u'treated', u'treatment', u'treatments', u'treats', u'tree', u'trees', u'trek', u'trendy', u'tricky', u'tried', u'tries', u'trim', u'trimmed', u'trinkets', u'trio', u'trip', u'triple', u'trips', u'trivia', u'trouble', u'trout', u'troy', u'truck', u'true', u'truffle', u'truffles', u'truly', u'trust', u'trusted', u'trustworthy', u'truth', u'try', u'trying', u'tub', u'tucked', u'tucson', u'tuesday', u'tuesdays', u'tummy', u'tuna', u'tunnel', u'turd', u'turkey', u'turn', u'turned', u'turning', u'turns', u'tuscan', u'tuscany', u'tv', u'tvs', u'twice', u'twist', u'twisted', u'twitter', u'tyler', u'type', u'types', u'typical', u'typically', u'tzatziki', u'uber', u'udupai', u'ugh', u'ugly', u'uh', u'ultimate', u'ultimately', u'um', u'unable', u'unacceptable', u'unbeatable', u'unbelievable', u'unbelievably', u'uncaring', u'uncomfortable', u'understaffed', u'understand', u'understanding', u'understood', u'unfortunate', u'unfortunately', u'unhappy', u'uni', u'union', u'unique', u'unit', u'united', u'university', u'unless', u'unlike', u'unlimited', u'unparalleled', u'unpleasant', u'unprofessional', u'unusual', u'upbeat', u'update', u'updated', u'updates', u'upfront', u'upgrade', u'upgraded', u'upper', u'ups', u'upscale', u'upset', u'upside', u'upstairs', u'uptight', u'urban', u'urgent', u'urinal', u'usa', u'use', u'used', u'useful', u'useless', u'uses', u'using', u'usual', u'usually', u'utter', u'vacation', u'valentine', u'valet', u'valley', u'valuable', u'value', u'van', u'vanilla', u'varied', u'varieties', u'variety', u'various', u've', u'veal', u'vegan', u'vegas', u'vegetable', u'vegetables', u'vegetarian', u'veggie', u'veggies', u'vehicle', u'velvet', u'vendors', u'venture', u'ventured', u'venue', u'verde', u'version', u'versions', u'vet', u'veterinary', u'vets', u'vibe', u'video', u'vietnamese', u'view', u'views', u'vig', u'village', u'vinaigrette', u'vinegar', u'vintage', u'vip', u'virgin', u'vision', u'visit', u'visited', u'visiting', u'visitors', u'visits', u'visually', u'vodka', u'voice', u'volcano', u'volume', u'volunteer', u'volunteers', u'von', u'vouch', u'voucher', u'vs', u'waffle', u'waffles', u'wagyu', u'wait', u'waited', u'waiter', u'waiters', u'waiting', u'waitress', u'waitresses', u'waits', u'waitstaff', u'wake', u'walk', u'walked', u'walking', u'walks', u'wall', u'wallet', u'walls', u'walmart', u'walnut', u'walnuts', u'wand', u'wander', u'wandering', u'wanna', u'want', u'wanted', u'wanting', u'wants', u'war', u'warehouse', u'warm', u'warmed', u'warned', u'warning', u'warranty', u'wasabi', u'wash', u'washed', u'wasn', u'wasnt', u'waste', u'wasted', u'wasting', u'watch', u'watched', u'watching', u'water', u'watering', u'watery', u'watt', u'wax', u'way', u'ways', u'weak', u'wear', u'wearing', u'weather', u'website', u'wedding', u'weddings', u'wedges', u'wednesday', u'week', u'weekday', u'weekdays', u'weekend', u'weekends', u'weekly', u'weeks', u'wei', u'weight', u'weird', u'welcome', u'welcomed', u'welcoming', u'wellness', u'wendy', u'went', u'weren', u'wes', u'west', u'western', u'wet', u'whats', u'whatsoever', u'wheat', u'wheel', u'whim', u'whip', u'whipped', u'white', u'whopping', u'whore', u'wi', u'wide', u'wife', u'wifi', u'wild', u'willing', u'win', u'wind', u'window', u'windows', u'windshield', u'wine', u'wines', u'wing', u'wings', u'winner', u'winning', u'winter', u'wisconsin', u'wise', u'wish', u'wished', u'wm', u'woke', u'woman', u'women', u'won', u'wonder', u'wondered', u'wonderful', u'wonderfully', u'wondering', u'wont', u'wonton', u'woo', u'wood', u'wooden', u'woods', u'woohoo', u'word', u'words', u'work', u'worked', u'worker', u'workers', u'working', u'workout', u'works', u'world', u'worn', u'worried', u'worries', u'worry', u'worse', u'worst', u'worth', u'worthy', u'wouldn', u'wouldnt', u'wow', u'wowed', u'wrap', u'wrapped', u'wraps', u'write', u'writing', u'written', u'wrong', u'wrote', u'wtf', u'www', u'ya', u'yakisoba', u'yard', u'yasu', u'yay', u'yea', u'yeah', u'year', u'years', u'yelling', u'yellow', u'yelp', u'yelped', u'yelper', u'yelpers', u'yep', u'yes', u'yesterday', u'yikes', u'yo', u'yoga', u'yogurt', u'yogurtland', u'york', u'young', u'younger', u'yr', u'yuck', u'yum', u'yummm', u'yummy', u'yup', u'zach', u'zen', u'zero', u'zinburger', u'zoo', u'zucchini', u'zuzu']\n"
     ]
    }
   ],
   "source": [
    "# all 100 features\n",
    "print vect.get_feature_names()"
   ]
  },
  {
   "cell_type": "code",
   "execution_count": 40,
   "metadata": {
    "collapsed": false
   },
   "outputs": [
    {
     "name": "stdout",
     "output_type": "stream",
     "text": [
      "(3268L,) (3268L,)\n",
      "Features:  5000\n",
      "Accuracy:  0.927872860636\n"
     ]
    }
   ],
   "source": [
    "# include 1-grams and 2-grams, and limit the number of features\n",
    "vect = CountVectorizer(ngram_range=(1, 2), max_features=5000)\n",
    "tokenize_test(vect,yelp,predictors,target)"
   ]
  },
  {
   "cell_type": "markdown",
   "metadata": {},
   "source": [
    "The accuracy doesn't seem to improve much from here."
   ]
  },
  {
   "cell_type": "markdown",
   "metadata": {},
   "source": [
    "- **min_df:** float in range [0.0, 1.0] or int, default=1\n",
    "- When building the vocabulary ignore terms that have a document frequency strictly lower than the given threshold. This value is also called cut-off in the literature. If float, the parameter represents a proportion of documents, integer absolute counts."
   ]
  },
  {
   "cell_type": "code",
   "execution_count": 41,
   "metadata": {
    "collapsed": false
   },
   "outputs": [
    {
     "name": "stdout",
     "output_type": "stream",
     "text": [
      "(3268L,) (3268L,)\n",
      "Features:  46546\n",
      "Accuracy:  0.929095354523\n"
     ]
    }
   ],
   "source": [
    "# include 1-grams and 2-grams, and only include terms that appear at least 2 times\n",
    "vect = CountVectorizer(ngram_range=(1, 2), min_df=2)\n",
    "tokenize_test(vect,yelp,predictors,target)"
   ]
  },
  {
   "cell_type": "markdown",
   "metadata": {},
   "source": [
    "Okay. That seems to help a bit. You might want to play around with the ngrams and min_df to see which values seem to work best for this model."
   ]
  },
  {
   "cell_type": "markdown",
   "metadata": {},
   "source": [
    "## Part 5: Introduction to TextBlob"
   ]
  },
  {
   "cell_type": "markdown",
   "metadata": {},
   "source": [
    "TextBlob: \"Simplified Text Processing\""
   ]
  },
  {
   "cell_type": "code",
   "execution_count": 42,
   "metadata": {
    "collapsed": false
   },
   "outputs": [
    {
     "name": "stdout",
     "output_type": "stream",
     "text": [
      "My wife took me here on my birthday for breakfast and it was excellent.  The weather was perfect which made sitting outside overlooking their grounds an absolute pleasure.  Our waitress was excellent and our food arrived quickly on the semi-busy Saturday morning.  It looked like the place fills up pretty quickly so the earlier you get here the better.\n",
      "\n",
      "Do yourself a favor and get their Bloody Mary.  It was phenomenal and simply the best I've ever had.  I'm pretty sure they only use ingredients from their garden and blend them fresh when you order it.  It was amazing.\n",
      "\n",
      "While EVERYTHING on the menu looks excellent, I had the white truffle scrambled eggs vegetable skillet and it was tasty and delicious.  It came with 2 pieces of their griddled bread with was amazing and it absolutely made the meal complete.  It was the best \"toast\" I've ever had.\n",
      "\n",
      "Anyway, I can't wait to go back!\n"
     ]
    }
   ],
   "source": [
    "# print the first review\n",
    "print yelp.text[0]"
   ]
  },
  {
   "cell_type": "code",
   "execution_count": 43,
   "metadata": {
    "collapsed": false
   },
   "outputs": [],
   "source": [
    "# save it as a TextBlob object\n",
    "review = TextBlob(yelp.text[0])"
   ]
  },
  {
   "cell_type": "code",
   "execution_count": 44,
   "metadata": {
    "collapsed": false
   },
   "outputs": [
    {
     "data": {
      "text/plain": [
       "WordList(['My', 'wife', 'took', 'me', 'here', 'on', 'my', 'birthday', 'for', 'breakfast', 'and', 'it', 'was', 'excellent', 'The', 'weather', 'was', 'perfect', 'which', 'made', 'sitting', 'outside', 'overlooking', 'their', 'grounds', 'an', 'absolute', 'pleasure', 'Our', 'waitress', 'was', 'excellent', 'and', 'our', 'food', 'arrived', 'quickly', 'on', 'the', 'semi-busy', 'Saturday', 'morning', 'It', 'looked', 'like', 'the', 'place', 'fills', 'up', 'pretty', 'quickly', 'so', 'the', 'earlier', 'you', 'get', 'here', 'the', 'better', 'Do', 'yourself', 'a', 'favor', 'and', 'get', 'their', 'Bloody', 'Mary', 'It', 'was', 'phenomenal', 'and', 'simply', 'the', 'best', 'I', \"'ve\", 'ever', 'had', 'I', \"'m\", 'pretty', 'sure', 'they', 'only', 'use', 'ingredients', 'from', 'their', 'garden', 'and', 'blend', 'them', 'fresh', 'when', 'you', 'order', 'it', 'It', 'was', 'amazing', 'While', 'EVERYTHING', 'on', 'the', 'menu', 'looks', 'excellent', 'I', 'had', 'the', 'white', 'truffle', 'scrambled', 'eggs', 'vegetable', 'skillet', 'and', 'it', 'was', 'tasty', 'and', 'delicious', 'It', 'came', 'with', '2', 'pieces', 'of', 'their', 'griddled', 'bread', 'with', 'was', 'amazing', 'and', 'it', 'absolutely', 'made', 'the', 'meal', 'complete', 'It', 'was', 'the', 'best', 'toast', 'I', \"'ve\", 'ever', 'had', 'Anyway', 'I', 'ca', \"n't\", 'wait', 'to', 'go', 'back'])"
      ]
     },
     "execution_count": 44,
     "metadata": {},
     "output_type": "execute_result"
    }
   ],
   "source": [
    "# list the words\n",
    "review.words"
   ]
  },
  {
   "cell_type": "code",
   "execution_count": 45,
   "metadata": {
    "collapsed": false
   },
   "outputs": [
    {
     "data": {
      "text/plain": [
       "[Sentence(\"My wife took me here on my birthday for breakfast and it was excellent.\"),\n",
       " Sentence(\"The weather was perfect which made sitting outside overlooking their grounds an absolute pleasure.\"),\n",
       " Sentence(\"Our waitress was excellent and our food arrived quickly on the semi-busy Saturday morning.\"),\n",
       " Sentence(\"It looked like the place fills up pretty quickly so the earlier you get here the better.\"),\n",
       " Sentence(\"Do yourself a favor and get their Bloody Mary.\"),\n",
       " Sentence(\"It was phenomenal and simply the best I've ever had.\"),\n",
       " Sentence(\"I'm pretty sure they only use ingredients from their garden and blend them fresh when you order it.\"),\n",
       " Sentence(\"It was amazing.\"),\n",
       " Sentence(\"While EVERYTHING on the menu looks excellent, I had the white truffle scrambled eggs vegetable skillet and it was tasty and delicious.\"),\n",
       " Sentence(\"It came with 2 pieces of their griddled bread with was amazing and it absolutely made the meal complete.\"),\n",
       " Sentence(\"It was the best \"toast\" I've ever had.\"),\n",
       " Sentence(\"Anyway, I can't wait to go back!\")]"
      ]
     },
     "execution_count": 45,
     "metadata": {},
     "output_type": "execute_result"
    }
   ],
   "source": [
    "# list the sentences\n",
    "review.sentences"
   ]
  },
  {
   "cell_type": "code",
   "execution_count": 46,
   "metadata": {
    "collapsed": false
   },
   "outputs": [
    {
     "data": {
      "text/plain": [
       "TextBlob(\"my wife took me here on my birthday for breakfast and it was excellent.  the weather was perfect which made sitting outside overlooking their grounds an absolute pleasure.  our waitress was excellent and our food arrived quickly on the semi-busy saturday morning.  it looked like the place fills up pretty quickly so the earlier you get here the better.\n",
       "\n",
       "do yourself a favor and get their bloody mary.  it was phenomenal and simply the best i've ever had.  i'm pretty sure they only use ingredients from their garden and blend them fresh when you order it.  it was amazing.\n",
       "\n",
       "while everything on the menu looks excellent, i had the white truffle scrambled eggs vegetable skillet and it was tasty and delicious.  it came with 2 pieces of their griddled bread with was amazing and it absolutely made the meal complete.  it was the best \"toast\" i've ever had.\n",
       "\n",
       "anyway, i can't wait to go back!\")"
      ]
     },
     "execution_count": 46,
     "metadata": {},
     "output_type": "execute_result"
    }
   ],
   "source": [
    "# some string methods are available\n",
    "review.lower()"
   ]
  },
  {
   "cell_type": "markdown",
   "metadata": {},
   "source": [
    "## Part 6: Stemming and Lemmatization"
   ]
  },
  {
   "cell_type": "markdown",
   "metadata": {},
   "source": [
    "**Stemming:**\n",
    "\n",
    "- **What:** Reduce a word to its base/stem/root form\n",
    "- **Why:** Often makes sense to treat related words the same way\n",
    "- **Notes:**\n",
    "    - Uses a \"simple\" and fast rule-based approach\n",
    "    - Stemmed words are usually not shown to users (used for analysis/indexing)\n",
    "    - Some search engines treat words with the same stem as synonyms"
   ]
  },
  {
   "cell_type": "code",
   "execution_count": 47,
   "metadata": {
    "collapsed": false
   },
   "outputs": [
    {
     "name": "stdout",
     "output_type": "stream",
     "text": [
      "[u'my', u'wife', u'took', u'me', u'here', u'on', u'my', u'birthday', u'for', u'breakfast', u'and', u'it', u'was', u'excel', u'the', u'weather', u'was', u'perfect', u'which', u'made', u'sit', u'outsid', u'overlook', u'their', u'ground', u'an', u'absolut', u'pleasur', u'our', u'waitress', u'was', u'excel', u'and', u'our', u'food', u'arriv', u'quick', u'on', u'the', u'semi-busi', u'saturday', u'morn', u'it', u'look', u'like', u'the', u'place', u'fill', u'up', u'pretti', u'quick', u'so', u'the', u'earlier', u'you', u'get', u'here', u'the', u'better', u'do', u'yourself', u'a', u'favor', u'and', u'get', u'their', u'bloodi', u'mari', u'it', u'was', u'phenomen', u'and', u'simpli', u'the', u'best', u'i', u've', u'ever', u'had', u'i', u\"'m\", u'pretti', u'sure', u'they', u'onli', u'use', u'ingredi', u'from', u'their', u'garden', u'and', u'blend', u'them', u'fresh', u'when', u'you', u'order', u'it', u'it', u'was', u'amaz', u'while', u'everyth', u'on', u'the', u'menu', u'look', u'excel', u'i', u'had', u'the', u'white', u'truffl', u'scrambl', u'egg', u'veget', u'skillet', u'and', u'it', u'was', u'tasti', u'and', u'delici', u'it', u'came', u'with', u'2', u'piec', u'of', u'their', u'griddl', u'bread', u'with', u'was', u'amaz', u'and', u'it', u'absolut', u'made', u'the', u'meal', u'complet', u'it', u'was', u'the', u'best', u'toast', u'i', u've', u'ever', u'had', u'anyway', u'i', u'ca', u\"n't\", u'wait', u'to', u'go', u'back']\n"
     ]
    }
   ],
   "source": [
    "# initialize stemmer\n",
    "stemmer = SnowballStemmer('english')\n",
    "\n",
    "# stem each word\n",
    "print [stemmer.stem(word) for word in review.words]"
   ]
  },
  {
   "cell_type": "markdown",
   "metadata": {},
   "source": [
    "**Lemmatization**\n",
    "\n",
    "- **What:** Derive the canonical form ('lemma') of a word\n",
    "- **Why:** Can be better than stemming\n",
    "- **Notes:** Uses a dictionary-based approach (slower than stemming)"
   ]
  },
  {
   "cell_type": "code",
   "execution_count": 48,
   "metadata": {
    "collapsed": false
   },
   "outputs": [
    {
     "name": "stdout",
     "output_type": "stream",
     "text": [
      "['My', 'wife', 'took', 'me', 'here', 'on', 'my', 'birthday', 'for', 'breakfast', 'and', 'it', u'wa', 'excellent', 'The', 'weather', u'wa', 'perfect', 'which', 'made', 'sitting', 'outside', 'overlooking', 'their', u'ground', 'an', 'absolute', 'pleasure', 'Our', 'waitress', u'wa', 'excellent', 'and', 'our', 'food', 'arrived', 'quickly', 'on', 'the', 'semi-busy', 'Saturday', 'morning', 'It', 'looked', 'like', 'the', 'place', u'fill', 'up', 'pretty', 'quickly', 'so', 'the', 'earlier', 'you', 'get', 'here', 'the', 'better', 'Do', 'yourself', 'a', 'favor', 'and', 'get', 'their', 'Bloody', 'Mary', 'It', u'wa', 'phenomenal', 'and', 'simply', 'the', 'best', 'I', \"'ve\", 'ever', 'had', 'I', \"'m\", 'pretty', 'sure', 'they', 'only', 'use', u'ingredient', 'from', 'their', 'garden', 'and', 'blend', 'them', 'fresh', 'when', 'you', 'order', 'it', 'It', u'wa', 'amazing', 'While', 'EVERYTHING', 'on', 'the', 'menu', u'look', 'excellent', 'I', 'had', 'the', 'white', 'truffle', 'scrambled', u'egg', 'vegetable', 'skillet', 'and', 'it', u'wa', 'tasty', 'and', 'delicious', 'It', 'came', 'with', '2', u'piece', 'of', 'their', 'griddled', 'bread', 'with', u'wa', 'amazing', 'and', 'it', 'absolutely', 'made', 'the', 'meal', 'complete', 'It', u'wa', 'the', 'best', 'toast', 'I', \"'ve\", 'ever', 'had', 'Anyway', 'I', 'ca', \"n't\", 'wait', 'to', 'go', 'back']\n"
     ]
    }
   ],
   "source": [
    "# assume every word is a noun\n",
    "print [word.lemmatize() for word in review.words]"
   ]
  },
  {
   "cell_type": "code",
   "execution_count": 49,
   "metadata": {
    "collapsed": false
   },
   "outputs": [
    {
     "name": "stdout",
     "output_type": "stream",
     "text": [
      "['My', 'wife', u'take', 'me', 'here', 'on', 'my', 'birthday', 'for', 'breakfast', 'and', 'it', u'be', 'excellent', 'The', 'weather', u'be', 'perfect', 'which', u'make', u'sit', 'outside', u'overlook', 'their', u'ground', 'an', 'absolute', 'pleasure', 'Our', 'waitress', u'be', 'excellent', 'and', 'our', 'food', u'arrive', 'quickly', 'on', 'the', 'semi-busy', 'Saturday', 'morning', 'It', u'look', 'like', 'the', 'place', u'fill', 'up', 'pretty', 'quickly', 'so', 'the', 'earlier', 'you', 'get', 'here', 'the', 'better', 'Do', 'yourself', 'a', 'favor', 'and', 'get', 'their', 'Bloody', 'Mary', 'It', u'be', 'phenomenal', 'and', 'simply', 'the', 'best', 'I', \"'ve\", 'ever', u'have', 'I', \"'m\", 'pretty', 'sure', 'they', 'only', 'use', 'ingredients', 'from', 'their', 'garden', 'and', 'blend', 'them', 'fresh', 'when', 'you', 'order', 'it', 'It', u'be', u'amaze', 'While', 'EVERYTHING', 'on', 'the', 'menu', u'look', 'excellent', 'I', u'have', 'the', 'white', 'truffle', u'scramble', u'egg', 'vegetable', 'skillet', 'and', 'it', u'be', 'tasty', 'and', 'delicious', 'It', u'come', 'with', '2', u'piece', 'of', 'their', u'griddle', 'bread', 'with', u'be', u'amaze', 'and', 'it', 'absolutely', u'make', 'the', 'meal', 'complete', 'It', u'be', 'the', 'best', 'toast', 'I', \"'ve\", 'ever', u'have', 'Anyway', 'I', 'ca', \"n't\", 'wait', 'to', 'go', 'back']\n"
     ]
    }
   ],
   "source": [
    "# assume every word is a verb\n",
    "print [word.lemmatize(pos='v') for word in review.words]"
   ]
  },
  {
   "cell_type": "code",
   "execution_count": 50,
   "metadata": {
    "collapsed": false
   },
   "outputs": [],
   "source": [
    "# define a function that accepts text and returns a list of lemmas\n",
    "def split_into_lemmas(text):\n",
    "    text = unicode(text, 'utf-8').lower()\n",
    "    words = TextBlob(text).words\n",
    "    return [word.lemmatize() for word in words]"
   ]
  },
  {
   "cell_type": "code",
   "execution_count": 51,
   "metadata": {
    "collapsed": false
   },
   "outputs": [
    {
     "name": "stdout",
     "output_type": "stream",
     "text": [
      "(3268L,) (3268L,)\n",
      "Features:  16949\n",
      "Accuracy:  0.920537897311\n"
     ]
    }
   ],
   "source": [
    "# use split_into_lemmas as the feature extraction function (WARNING: SLOW!)\n",
    "vect = CountVectorizer(analyzer=split_into_lemmas)\n",
    "tokenize_test(vect,yelp,predictors,target)"
   ]
  },
  {
   "cell_type": "markdown",
   "metadata": {},
   "source": [
    "So lemmatization doesn't seem to help much. But there is room to play around with pos tagging including \"pos=v\" parameter earlier. "
   ]
  },
  {
   "cell_type": "code",
   "execution_count": 52,
   "metadata": {
    "collapsed": false
   },
   "outputs": [
    {
     "name": "stdout",
     "output_type": "stream",
     "text": [
      "[u'zach', u'zam', u'zankou', u'zappos', u'zatsiki', u'zen', u'zen-like', u'zero', u'zero-star', u'zest', u'zesty', u'zexperience', u'zha', u'zia', u'zichini', u'zilch', u'zillion', u'zin', u'zinburger', u'zinburgergeist', u'zinc', u'zinfandel', u'zing', u'zip', u'zip-loc', u'zipcar', u'ziploc', u'zipper', u'zipps', u'ziti', u'zoe', u'zombie', u'zone', u'zoners', u'zoning', u'zoo', u'zoom', u'zoyo', u'zucca', u'zucchini', u'zuchinni', u'zumba', u'zupa', u'zupas', u'zuzu', u'zuzus', u'zwiebel-kr\\xe4uter', u'\\xe9clairs', u'\\xe9cole', u'\\xe9m']\n"
     ]
    }
   ],
   "source": [
    "# last 50 features\n",
    "print vect.get_feature_names()[-50:]"
   ]
  },
  {
   "cell_type": "markdown",
   "metadata": {},
   "source": [
    "## Part 7: Term Frequency-Inverse Document Frequency (TF-IDF)"
   ]
  },
  {
   "cell_type": "markdown",
   "metadata": {},
   "source": [
    "- **What:** Computes \"relative frequency\" that a word appears in a document compared to its frequency across all documents\n",
    "- **Why:** More useful than \"term frequency\" for identifying \"important\" words in each document (high frequency in that document, low frequency in other documents)\n",
    "- **Notes:** Used for search engine scoring, text summarization, document clustering"
   ]
  },
  {
   "cell_type": "code",
   "execution_count": 53,
   "metadata": {
    "collapsed": false
   },
   "outputs": [],
   "source": [
    "# example documents\n",
    "simple_train = ['call you tonight', 'Call me a cab', 'please call me... PLEASE!']"
   ]
  },
  {
   "cell_type": "code",
   "execution_count": 54,
   "metadata": {
    "collapsed": false
   },
   "outputs": [
    {
     "data": {
      "text/html": [
       "<div>\n",
       "<table border=\"1\" class=\"dataframe\">\n",
       "  <thead>\n",
       "    <tr style=\"text-align: right;\">\n",
       "      <th></th>\n",
       "      <th>cab</th>\n",
       "      <th>call</th>\n",
       "      <th>me</th>\n",
       "      <th>please</th>\n",
       "      <th>tonight</th>\n",
       "      <th>you</th>\n",
       "    </tr>\n",
       "  </thead>\n",
       "  <tbody>\n",
       "    <tr>\n",
       "      <th>0</th>\n",
       "      <td>0</td>\n",
       "      <td>1</td>\n",
       "      <td>0</td>\n",
       "      <td>0</td>\n",
       "      <td>1</td>\n",
       "      <td>1</td>\n",
       "    </tr>\n",
       "    <tr>\n",
       "      <th>1</th>\n",
       "      <td>1</td>\n",
       "      <td>1</td>\n",
       "      <td>1</td>\n",
       "      <td>0</td>\n",
       "      <td>0</td>\n",
       "      <td>0</td>\n",
       "    </tr>\n",
       "    <tr>\n",
       "      <th>2</th>\n",
       "      <td>0</td>\n",
       "      <td>1</td>\n",
       "      <td>1</td>\n",
       "      <td>2</td>\n",
       "      <td>0</td>\n",
       "      <td>0</td>\n",
       "    </tr>\n",
       "  </tbody>\n",
       "</table>\n",
       "</div>"
      ],
      "text/plain": [
       "   cab  call  me  please  tonight  you\n",
       "0    0     1   0       0        1    1\n",
       "1    1     1   1       0        0    0\n",
       "2    0     1   1       2        0    0"
      ]
     },
     "execution_count": 54,
     "metadata": {},
     "output_type": "execute_result"
    }
   ],
   "source": [
    "# Term Frequency\n",
    "vect = CountVectorizer()\n",
    "tf = pd.DataFrame(vect.fit_transform(simple_train).toarray(), columns=vect.get_feature_names())\n",
    "tf"
   ]
  },
  {
   "cell_type": "code",
   "execution_count": 55,
   "metadata": {
    "collapsed": false
   },
   "outputs": [
    {
     "data": {
      "text/html": [
       "<div>\n",
       "<table border=\"1\" class=\"dataframe\">\n",
       "  <thead>\n",
       "    <tr style=\"text-align: right;\">\n",
       "      <th></th>\n",
       "      <th>cab</th>\n",
       "      <th>call</th>\n",
       "      <th>me</th>\n",
       "      <th>please</th>\n",
       "      <th>tonight</th>\n",
       "      <th>you</th>\n",
       "    </tr>\n",
       "  </thead>\n",
       "  <tbody>\n",
       "    <tr>\n",
       "      <th>0</th>\n",
       "      <td>1</td>\n",
       "      <td>3</td>\n",
       "      <td>2</td>\n",
       "      <td>1</td>\n",
       "      <td>1</td>\n",
       "      <td>1</td>\n",
       "    </tr>\n",
       "  </tbody>\n",
       "</table>\n",
       "</div>"
      ],
      "text/plain": [
       "   cab  call  me  please  tonight  you\n",
       "0    1     3   2       1        1    1"
      ]
     },
     "execution_count": 55,
     "metadata": {},
     "output_type": "execute_result"
    }
   ],
   "source": [
    "# Document Frequency\n",
    "vect = CountVectorizer(binary=True)\n",
    "df = vect.fit_transform(simple_train).toarray().sum(axis=0)\n",
    "pd.DataFrame(df.reshape(1, 6), columns=vect.get_feature_names())"
   ]
  },
  {
   "cell_type": "code",
   "execution_count": 56,
   "metadata": {
    "collapsed": false
   },
   "outputs": [
    {
     "data": {
      "text/html": [
       "<div>\n",
       "<table border=\"1\" class=\"dataframe\">\n",
       "  <thead>\n",
       "    <tr style=\"text-align: right;\">\n",
       "      <th></th>\n",
       "      <th>cab</th>\n",
       "      <th>call</th>\n",
       "      <th>me</th>\n",
       "      <th>please</th>\n",
       "      <th>tonight</th>\n",
       "      <th>you</th>\n",
       "    </tr>\n",
       "  </thead>\n",
       "  <tbody>\n",
       "    <tr>\n",
       "      <th>0</th>\n",
       "      <td>0.0</td>\n",
       "      <td>0.333333</td>\n",
       "      <td>0.0</td>\n",
       "      <td>0.0</td>\n",
       "      <td>1.0</td>\n",
       "      <td>1.0</td>\n",
       "    </tr>\n",
       "    <tr>\n",
       "      <th>1</th>\n",
       "      <td>1.0</td>\n",
       "      <td>0.333333</td>\n",
       "      <td>0.5</td>\n",
       "      <td>0.0</td>\n",
       "      <td>0.0</td>\n",
       "      <td>0.0</td>\n",
       "    </tr>\n",
       "    <tr>\n",
       "      <th>2</th>\n",
       "      <td>0.0</td>\n",
       "      <td>0.333333</td>\n",
       "      <td>0.5</td>\n",
       "      <td>2.0</td>\n",
       "      <td>0.0</td>\n",
       "      <td>0.0</td>\n",
       "    </tr>\n",
       "  </tbody>\n",
       "</table>\n",
       "</div>"
      ],
      "text/plain": [
       "   cab      call   me  please  tonight  you\n",
       "0  0.0  0.333333  0.0     0.0      1.0  1.0\n",
       "1  1.0  0.333333  0.5     0.0      0.0  0.0\n",
       "2  0.0  0.333333  0.5     2.0      0.0  0.0"
      ]
     },
     "execution_count": 56,
     "metadata": {},
     "output_type": "execute_result"
    }
   ],
   "source": [
    "# Term Frequency-Inverse Document Frequency (simple version)\n",
    "tf/df"
   ]
  },
  {
   "cell_type": "code",
   "execution_count": 57,
   "metadata": {
    "collapsed": false
   },
   "outputs": [
    {
     "data": {
      "text/html": [
       "<div>\n",
       "<table border=\"1\" class=\"dataframe\">\n",
       "  <thead>\n",
       "    <tr style=\"text-align: right;\">\n",
       "      <th></th>\n",
       "      <th>cab</th>\n",
       "      <th>call</th>\n",
       "      <th>me</th>\n",
       "      <th>please</th>\n",
       "      <th>tonight</th>\n",
       "      <th>you</th>\n",
       "    </tr>\n",
       "  </thead>\n",
       "  <tbody>\n",
       "    <tr>\n",
       "      <th>0</th>\n",
       "      <td>0.000000</td>\n",
       "      <td>0.385372</td>\n",
       "      <td>0.000000</td>\n",
       "      <td>0.000000</td>\n",
       "      <td>0.652491</td>\n",
       "      <td>0.652491</td>\n",
       "    </tr>\n",
       "    <tr>\n",
       "      <th>1</th>\n",
       "      <td>0.720333</td>\n",
       "      <td>0.425441</td>\n",
       "      <td>0.547832</td>\n",
       "      <td>0.000000</td>\n",
       "      <td>0.000000</td>\n",
       "      <td>0.000000</td>\n",
       "    </tr>\n",
       "    <tr>\n",
       "      <th>2</th>\n",
       "      <td>0.000000</td>\n",
       "      <td>0.266075</td>\n",
       "      <td>0.342620</td>\n",
       "      <td>0.901008</td>\n",
       "      <td>0.000000</td>\n",
       "      <td>0.000000</td>\n",
       "    </tr>\n",
       "  </tbody>\n",
       "</table>\n",
       "</div>"
      ],
      "text/plain": [
       "        cab      call        me    please   tonight       you\n",
       "0  0.000000  0.385372  0.000000  0.000000  0.652491  0.652491\n",
       "1  0.720333  0.425441  0.547832  0.000000  0.000000  0.000000\n",
       "2  0.000000  0.266075  0.342620  0.901008  0.000000  0.000000"
      ]
     },
     "execution_count": 57,
     "metadata": {},
     "output_type": "execute_result"
    }
   ],
   "source": [
    "# TfidfVectorizer\n",
    "vect = TfidfVectorizer()\n",
    "pd.DataFrame(vect.fit_transform(simple_train).toarray(), columns=vect.get_feature_names())"
   ]
  },
  {
   "cell_type": "markdown",
   "metadata": {},
   "source": [
    "**More details:** [TF-IDF is about what matters](http://planspace.org/20150524-tfidf_is_about_what_matters/)"
   ]
  },
  {
   "cell_type": "markdown",
   "metadata": {},
   "source": [
    "## Part 8: Using TF-IDF to Summarize a Yelp Review\n",
    "\n",
    "Reddit's autotldr uses the [SMMRY](http://smmry.com/about) algorithm, which is based on TF-IDF!"
   ]
  },
  {
   "cell_type": "code",
   "execution_count": 58,
   "metadata": {
    "collapsed": false
   },
   "outputs": [
    {
     "data": {
      "text/plain": [
       "(4086, 18883)"
      ]
     },
     "execution_count": 58,
     "metadata": {},
     "output_type": "execute_result"
    }
   ],
   "source": [
    "# create a document-term matrix using TF-IDF\n",
    "vect = TfidfVectorizer(stop_words='english')\n",
    "dtm = vect.fit_transform(yelp.text)\n",
    "features = vect.get_feature_names()\n",
    "dtm.shape"
   ]
  },
  {
   "cell_type": "code",
   "execution_count": 59,
   "metadata": {
    "collapsed": false
   },
   "outputs": [],
   "source": [
    "def summarize():\n",
    "    \n",
    "    # choose a random review that is at least 300 characters\n",
    "    review_length = 0\n",
    "    while review_length < 300:\n",
    "        review_id = np.random.randint(0, len(yelp))\n",
    "        review_text = unicode(yelp.text[review_id], 'utf-8')\n",
    "        review_length = len(review_text)\n",
    "    \n",
    "    # create a dictionary of words and their TF-IDF scores\n",
    "    word_scores = {}\n",
    "    for word in TextBlob(review_text).words:\n",
    "        word = word.lower()\n",
    "        if word in features:\n",
    "            word_scores[word] = dtm[review_id, features.index(word)]\n",
    "    \n",
    "    # print words with the top 5 TF-IDF scores\n",
    "    print 'TOP SCORING WORDS:'\n",
    "    top_scores = sorted(word_scores.items(), key=lambda x: x[1], reverse=True)[:5]\n",
    "    for word, score in top_scores:\n",
    "        print word\n",
    "    \n",
    "    # print 5 random words\n",
    "    print '\\n' + 'RANDOM WORDS:'\n",
    "    random_words = np.random.choice(word_scores.keys(), size=5, replace=False)\n",
    "    for word in random_words:\n",
    "        print word\n",
    "    \n",
    "    # print the review\n",
    "    print '\\n' + review_text"
   ]
  },
  {
   "cell_type": "code",
   "execution_count": 61,
   "metadata": {
    "collapsed": false
   },
   "outputs": [],
   "source": [
    "#summarize()"
   ]
  },
  {
   "cell_type": "markdown",
   "metadata": {},
   "source": [
    "## Part 9: Sentiment Analysis"
   ]
  },
  {
   "cell_type": "code",
   "execution_count": 62,
   "metadata": {
    "collapsed": false
   },
   "outputs": [
    {
     "name": "stdout",
     "output_type": "stream",
     "text": [
      "My wife took me here on my birthday for breakfast and it was excellent.  The weather was perfect which made sitting outside overlooking their grounds an absolute pleasure.  Our waitress was excellent and our food arrived quickly on the semi-busy Saturday morning.  It looked like the place fills up pretty quickly so the earlier you get here the better.\n",
      "\n",
      "Do yourself a favor and get their Bloody Mary.  It was phenomenal and simply the best I've ever had.  I'm pretty sure they only use ingredients from their garden and blend them fresh when you order it.  It was amazing.\n",
      "\n",
      "While EVERYTHING on the menu looks excellent, I had the white truffle scrambled eggs vegetable skillet and it was tasty and delicious.  It came with 2 pieces of their griddled bread with was amazing and it absolutely made the meal complete.  It was the best \"toast\" I've ever had.\n",
      "\n",
      "Anyway, I can't wait to go back!\n"
     ]
    }
   ],
   "source": [
    "print review"
   ]
  },
  {
   "cell_type": "code",
   "execution_count": 63,
   "metadata": {
    "collapsed": false
   },
   "outputs": [
    {
     "data": {
      "text/plain": [
       "0.40246913580246907"
      ]
     },
     "execution_count": 63,
     "metadata": {},
     "output_type": "execute_result"
    }
   ],
   "source": [
    "# polarity ranges from -1 (most negative) to 1 (most positive)\n",
    "review.sentiment.polarity"
   ]
  },
  {
   "cell_type": "code",
   "execution_count": 64,
   "metadata": {
    "collapsed": false
   },
   "outputs": [
    {
     "data": {
      "text/html": [
       "<div>\n",
       "<table border=\"1\" class=\"dataframe\">\n",
       "  <thead>\n",
       "    <tr style=\"text-align: right;\">\n",
       "      <th></th>\n",
       "      <th>review_id</th>\n",
       "      <th>stars</th>\n",
       "      <th>text</th>\n",
       "      <th>length</th>\n",
       "    </tr>\n",
       "  </thead>\n",
       "  <tbody>\n",
       "    <tr>\n",
       "      <th>0</th>\n",
       "      <td>fWKvX83p0-ka4JS3dc6E5A</td>\n",
       "      <td>5</td>\n",
       "      <td>My wife took me here on my birthday for breakf...</td>\n",
       "      <td>889</td>\n",
       "    </tr>\n",
       "  </tbody>\n",
       "</table>\n",
       "</div>"
      ],
      "text/plain": [
       "                review_id  stars  \\\n",
       "0  fWKvX83p0-ka4JS3dc6E5A      5   \n",
       "\n",
       "                                                text  length  \n",
       "0  My wife took me here on my birthday for breakf...     889  "
      ]
     },
     "execution_count": 64,
     "metadata": {},
     "output_type": "execute_result"
    }
   ],
   "source": [
    "# understanding the apply method\n",
    "yelp['length'] = yelp.text.apply(len)\n",
    "yelp.head(1)"
   ]
  },
  {
   "cell_type": "code",
   "execution_count": 65,
   "metadata": {
    "collapsed": false
   },
   "outputs": [],
   "source": [
    "# define a function that accepts text and returns the polarity\n",
    "def detect_sentiment(text):\n",
    "    return TextBlob(text.decode('utf-8')).sentiment.polarity"
   ]
  },
  {
   "cell_type": "code",
   "execution_count": 75,
   "metadata": {
    "collapsed": false
   },
   "outputs": [],
   "source": [
    "# create a new DataFrame column for sentiment (WARNING: SLOW!)\n",
    "yelp['sentiment'] = yelp.text.apply(detect_sentiment)\n",
    "yelpfull['sentiment'] = yelpfull.text.apply(detect_sentiment)"
   ]
  },
  {
   "cell_type": "code",
   "execution_count": 67,
   "metadata": {
    "collapsed": false
   },
   "outputs": [
    {
     "data": {
      "text/plain": [
       "<matplotlib.axes._subplots.AxesSubplot at 0x10c145f8>"
      ]
     },
     "execution_count": 67,
     "metadata": {},
     "output_type": "execute_result"
    },
    {
     "data": {
      "image/png": "[encoded data removed]",
      "text/plain": [
       "<matplotlib.figure.Figure at 0x10c149e8>"
      ]
     },
     "metadata": {},
     "output_type": "display_data"
    }
   ],
   "source": [
    "# box plot of sentiment grouped by stars\n",
    "yelp.boxplot(column='sentiment', by='stars')"
   ]
  },
  {
   "cell_type": "code",
   "execution_count": 68,
   "metadata": {
    "collapsed": false
   },
   "outputs": [
    {
     "data": {
      "text/plain": [
       "254    Our server Gary was awesome. Food was amazing....\n",
       "347    3 syllables for this place. \\nA-MAZ-ING!\\n\\nTh...\n",
       "420                                    LOVE the food!!!!\n",
       "459    Love it!!! Wish we still lived in Arizona as C...\n",
       "679                                     Excellent burger\n",
       "Name: text, dtype: object"
      ]
     },
     "execution_count": 68,
     "metadata": {},
     "output_type": "execute_result"
    }
   ],
   "source": [
    "# reviews with most positive sentiment\n",
    "yelp[yelp.sentiment == 1].text.head()"
   ]
  },
  {
   "cell_type": "code",
   "execution_count": 69,
   "metadata": {
    "collapsed": false
   },
   "outputs": [
    {
     "data": {
      "text/plain": [
       "773     This was absolutely horrible. I got the suprem...\n",
       "1517                  Nasty workers and over priced trash\n",
       "3266    Absolutely awful... these guys have NO idea wh...\n",
       "4766                                       Very bad food!\n",
       "5812        I wouldn't send my worst enemy to this place.\n",
       "Name: text, dtype: object"
      ]
     },
     "execution_count": 69,
     "metadata": {},
     "output_type": "execute_result"
    }
   ],
   "source": [
    "# reviews with most negative sentiment\n",
    "yelp[yelp.sentiment == -1].text.head()"
   ]
  },
  {
   "cell_type": "code",
   "execution_count": 70,
   "metadata": {
    "collapsed": false
   },
   "outputs": [],
   "source": [
    "# widen the column display\n",
    "pd.set_option('max_colwidth', 500)"
   ]
  },
  {
   "cell_type": "code",
   "execution_count": 71,
   "metadata": {
    "collapsed": false
   },
   "outputs": [
    {
     "data": {
      "text/html": [
       "<div>\n",
       "<table border=\"1\" class=\"dataframe\">\n",
       "  <thead>\n",
       "    <tr style=\"text-align: right;\">\n",
       "      <th></th>\n",
       "      <th>review_id</th>\n",
       "      <th>stars</th>\n",
       "      <th>text</th>\n",
       "      <th>length</th>\n",
       "      <th>sentiment</th>\n",
       "    </tr>\n",
       "  </thead>\n",
       "  <tbody>\n",
       "    <tr>\n",
       "      <th>390</th>\n",
       "      <td>KowGVoP_gygzdSu6Mt3zKQ</td>\n",
       "      <td>5</td>\n",
       "      <td>RIP AZ Coffee Connection.  :(  I stopped by two days ago unaware that they had closed.  I am severely bummed.  This place is irreplaceable!  Damn you, Starbucks and McDonalds!</td>\n",
       "      <td>175</td>\n",
       "      <td>-0.302083</td>\n",
       "    </tr>\n",
       "  </tbody>\n",
       "</table>\n",
       "</div>"
      ],
      "text/plain": [
       "                  review_id  stars  \\\n",
       "390  KowGVoP_gygzdSu6Mt3zKQ      5   \n",
       "\n",
       "                                                                                                                                                                                text  \\\n",
       "390  RIP AZ Coffee Connection.  :(  I stopped by two days ago unaware that they had closed.  I am severely bummed.  This place is irreplaceable!  Damn you, Starbucks and McDonalds!   \n",
       "\n",
       "     length  sentiment  \n",
       "390     175  -0.302083  "
      ]
     },
     "execution_count": 71,
     "metadata": {},
     "output_type": "execute_result"
    }
   ],
   "source": [
    "# negative sentiment in a 5-star review\n",
    "yelp[(yelp.stars == 5) & (yelp.sentiment < -0.3)].head(1)"
   ]
  },
  {
   "cell_type": "code",
   "execution_count": 72,
   "metadata": {
    "collapsed": false
   },
   "outputs": [
    {
     "data": {
      "text/html": [
       "<div>\n",
       "<table border=\"1\" class=\"dataframe\">\n",
       "  <thead>\n",
       "    <tr style=\"text-align: right;\">\n",
       "      <th></th>\n",
       "      <th>review_id</th>\n",
       "      <th>stars</th>\n",
       "      <th>text</th>\n",
       "      <th>length</th>\n",
       "      <th>sentiment</th>\n",
       "    </tr>\n",
       "  </thead>\n",
       "  <tbody>\n",
       "    <tr>\n",
       "      <th>1781</th>\n",
       "      <td>Gi-4O3EhE175vujbFGDIew</td>\n",
       "      <td>1</td>\n",
       "      <td>If you like the stuck up Scottsdale vibe this is a good place for you. The food isn't impressive. Nice outdoor seating.</td>\n",
       "      <td>119</td>\n",
       "      <td>0.766667</td>\n",
       "    </tr>\n",
       "  </tbody>\n",
       "</table>\n",
       "</div>"
      ],
      "text/plain": [
       "                   review_id  stars  \\\n",
       "1781  Gi-4O3EhE175vujbFGDIew      1   \n",
       "\n",
       "                                                                                                                         text  \\\n",
       "1781  If you like the stuck up Scottsdale vibe this is a good place for you. The food isn't impressive. Nice outdoor seating.   \n",
       "\n",
       "      length  sentiment  \n",
       "1781     119   0.766667  "
      ]
     },
     "execution_count": 72,
     "metadata": {},
     "output_type": "execute_result"
    }
   ],
   "source": [
    "# positive sentiment in a 1-star review\n",
    "yelp[(yelp.stars == 1) & (yelp.sentiment > 0.5)].head(1)"
   ]
  },
  {
   "cell_type": "code",
   "execution_count": 73,
   "metadata": {
    "collapsed": false
   },
   "outputs": [],
   "source": [
    "# reset the column display width\n",
    "pd.reset_option('max_colwidth')"
   ]
  },
  {
   "cell_type": "markdown",
   "metadata": {},
   "source": [
    "## Bonus: Adding Features to a Document-Term Matrix"
   ]
  },
  {
   "cell_type": "code",
   "execution_count": 76,
   "metadata": {
    "collapsed": false
   },
   "outputs": [],
   "source": [
    "# create a DataFrame that only contains the 5-star and 1-star reviews\n",
    "yelp_best_worst = yelpfull[(yelpfull.stars==5) | (yelpfull.stars==1)]\n",
    "\n",
    "# define X and y\n",
    "feature_cols = ['text', 'sentiment', 'cool', 'useful', 'funny']\n",
    "X = yelp_best_worst[feature_cols]\n",
    "y = yelp_best_worst.stars\n",
    "\n",
    "# split into training and testing sets\n",
    "X_train, X_test, y_train, y_test = train_test_split(X, y, test_size=0.2, random_state=0)"
   ]
  },
  {
   "cell_type": "code",
   "execution_count": 77,
   "metadata": {
    "collapsed": false
   },
   "outputs": [
    {
     "name": "stdout",
     "output_type": "stream",
     "text": [
      "(3268, 17305)\n",
      "(818, 17305)\n"
     ]
    }
   ],
   "source": [
    "# use CountVectorizer with text column only\n",
    "vect = CountVectorizer()\n",
    "X_train_dtm = vect.fit_transform(X_train.text)\n",
    "X_test_dtm = vect.transform(X_test.text)\n",
    "print X_train_dtm.shape\n",
    "print X_test_dtm.shape"
   ]
  },
  {
   "cell_type": "code",
   "execution_count": 78,
   "metadata": {
    "collapsed": false
   },
   "outputs": [
    {
     "data": {
      "text/plain": [
       "(3268, 4)"
      ]
     },
     "execution_count": 78,
     "metadata": {},
     "output_type": "execute_result"
    }
   ],
   "source": [
    "# shape of other four feature columns\n",
    "X_train.drop('text', axis=1).shape"
   ]
  },
  {
   "cell_type": "code",
   "execution_count": 79,
   "metadata": {
    "collapsed": false
   },
   "outputs": [
    {
     "data": {
      "text/plain": [
       "(3268, 4)"
      ]
     },
     "execution_count": 79,
     "metadata": {},
     "output_type": "execute_result"
    }
   ],
   "source": [
    "# cast other feature columns to float and convert to a sparse matrix\n",
    "extra = sp.sparse.csr_matrix(X_train.drop('text', axis=1).astype(float))\n",
    "extra.shape"
   ]
  },
  {
   "cell_type": "code",
   "execution_count": 80,
   "metadata": {
    "collapsed": false
   },
   "outputs": [
    {
     "data": {
      "text/plain": [
       "(3268, 17309)"
      ]
     },
     "execution_count": 80,
     "metadata": {},
     "output_type": "execute_result"
    }
   ],
   "source": [
    "# combine sparse matrices\n",
    "X_train_dtm_extra = sp.sparse.hstack((X_train_dtm, extra))\n",
    "X_train_dtm_extra.shape"
   ]
  },
  {
   "cell_type": "code",
   "execution_count": 81,
   "metadata": {
    "collapsed": false
   },
   "outputs": [
    {
     "data": {
      "text/plain": [
       "(818, 17309)"
      ]
     },
     "execution_count": 81,
     "metadata": {},
     "output_type": "execute_result"
    }
   ],
   "source": [
    "# repeat for testing set\n",
    "extra = sp.sparse.csr_matrix(X_test.drop('text', axis=1).astype(float))\n",
    "X_test_dtm_extra = sp.sparse.hstack((X_test_dtm, extra))\n",
    "X_test_dtm_extra.shape"
   ]
  },
  {
   "cell_type": "code",
   "execution_count": 82,
   "metadata": {
    "collapsed": false
   },
   "outputs": [
    {
     "name": "stdout",
     "output_type": "stream",
     "text": [
      "0.927872860636\n"
     ]
    }
   ],
   "source": [
    "# use logistic regression with text column only\n",
    "logreg = LogisticRegression(C=1e9)\n",
    "logreg.fit(X_train_dtm, y_train)\n",
    "y_pred_class = logreg.predict(X_test_dtm)\n",
    "print metrics.accuracy_score(y_test, y_pred_class)"
   ]
  },
  {
   "cell_type": "code",
   "execution_count": 83,
   "metadata": {
    "collapsed": false
   },
   "outputs": [
    {
     "name": "stdout",
     "output_type": "stream",
     "text": [
      "0.938875305623\n"
     ]
    }
   ],
   "source": [
    "# use logistic regression with all features\n",
    "logreg = LogisticRegression(C=1e9)\n",
    "logreg.fit(X_train_dtm_extra, y_train)\n",
    "y_pred_class = logreg.predict(X_test_dtm_extra)\n",
    "print metrics.accuracy_score(y_test, y_pred_class)"
   ]
  },
  {
   "cell_type": "markdown",
   "metadata": {},
   "source": [
    "## Bonus: Fun TextBlob Features"
   ]
  },
  {
   "cell_type": "code",
   "execution_count": 84,
   "metadata": {
    "collapsed": false
   },
   "outputs": [
    {
     "data": {
      "text/plain": [
       "TextBlob(\"15 minutes late\")"
      ]
     },
     "execution_count": 84,
     "metadata": {},
     "output_type": "execute_result"
    }
   ],
   "source": [
    "# spelling correction\n",
    "TextBlob('15 minuets late').correct()"
   ]
  },
  {
   "cell_type": "code",
   "execution_count": 85,
   "metadata": {
    "collapsed": false
   },
   "outputs": [
    {
     "data": {
      "text/plain": [
       "[('part', 0.9929478138222849), (u'parrot', 0.007052186177715092)]"
      ]
     },
     "execution_count": 85,
     "metadata": {},
     "output_type": "execute_result"
    }
   ],
   "source": [
    "# spellcheck\n",
    "Word('parot').spellcheck()"
   ]
  },
  {
   "cell_type": "code",
   "execution_count": 86,
   "metadata": {
    "collapsed": false
   },
   "outputs": [
    {
     "data": {
      "text/plain": [
       "[u'tip laterally',\n",
       " u'enclose with a bank',\n",
       " u'do business with a bank or keep an account at a bank',\n",
       " u'act as the banker in a game or in gambling',\n",
       " u'be in the banking business',\n",
       " u'put into a bank account',\n",
       " u'cover with ashes so to control the rate of burning',\n",
       " u'have confidence or faith in']"
      ]
     },
     "execution_count": 86,
     "metadata": {},
     "output_type": "execute_result"
    }
   ],
   "source": [
    "# definitions\n",
    "Word('bank').define('v')"
   ]
  },
  {
   "cell_type": "code",
   "execution_count": 87,
   "metadata": {
    "collapsed": false
   },
   "outputs": [
    {
     "data": {
      "text/plain": [
       "u'es'"
      ]
     },
     "execution_count": 87,
     "metadata": {},
     "output_type": "execute_result"
    }
   ],
   "source": [
    "# language identification\n",
    "TextBlob('Hola amigos').detect_language()"
   ]
  },
  {
   "cell_type": "markdown",
   "metadata": {},
   "source": [
    "## Conclusion\n",
    "\n",
    "- NLP is a gigantic field\n",
    "- Understanding the basics broadens the types of data you can work with\n",
    "- Simple techniques go a long way\n",
    "- Use scikit-learn for NLP whenever possible"
   ]
  }
 ],
 "metadata": {
  "kernelspec": {
   "display_name": "Python 2",
   "language": "python",
   "name": "python2"
  },
  "language_info": {
   "codemirror_mode": {
    "name": "ipython",
    "version": 2
   },
   "file_extension": ".py",
   "mimetype": "text/x-python",
   "name": "python",
   "nbconvert_exporter": "python",
   "pygments_lexer": "ipython2",
   "version": "2.7.13"
  }
 },
 "nbformat": 4,
 "nbformat_minor": 0
}
